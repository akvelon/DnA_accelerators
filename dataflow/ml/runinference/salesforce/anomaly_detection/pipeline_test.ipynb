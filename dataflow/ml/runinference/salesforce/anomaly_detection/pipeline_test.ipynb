{
 "cells": [
  {
   "cell_type": "code",
   "execution_count": 1,
   "outputs": [],
   "source": [
    " # Copyright 2023 Akvelon Inc.\n",
    " #\n",
    " # Licensed to the Apache Software Foundation (ASF) under one\n",
    " # or more contributor license agreements.  See the NOTICE file\n",
    " # distributed with this work for additional information\n",
    " # regarding copyright ownership.  The ASF licenses this file\n",
    " # to you under the Apache License, Version 2.0 (the\n",
    " # \"License\"); you may not use this file except in compliance\n",
    " # with the License.  You may obtain a copy of the License at\n",
    " #\n",
    " #     http://www.apache.org/licenses/LICENSE-2.0\n",
    " #\n",
    " # Unless required by applicable law or agreed to in writing, software\n",
    " # distributed under the License is distributed on an \"AS IS\" BASIS,\n",
    " # WITHOUT WARRANTIES OR CONDITIONS OF ANY KIND, either express or implied.\n",
    " # See the License for the specific language governing permissions and\n",
    " # limitations under the License."
   ],
   "metadata": {
    "collapsed": false
   }
  },
  {
   "cell_type": "code",
   "execution_count": 2,
   "outputs": [],
   "source": [
    "import apache_beam as beam\n",
    "import numpy as np\n",
    "import pandas as pd\n",
    "\n",
    "import torch\n",
    "\n",
    "from apache_beam import dataframe\n",
    "from apache_beam.runners.interactive.interactive_runner import InteractiveRunner\n",
    "import apache_beam.runners.interactive.interactive_beam as ib"
   ],
   "metadata": {
    "collapsed": false
   }
  },
  {
   "cell_type": "code",
   "execution_count": 3,
   "outputs": [],
   "source": [
    "ib.options.num = '10m'"
   ],
   "metadata": {
    "collapsed": false
   }
  },
  {
   "cell_type": "code",
   "execution_count": 4,
   "outputs": [],
   "source": [
    "train = pd.read_csv('../../../data/Salesforce/dtc_opportunity_train.csv')\n",
    "test = pd.read_csv('../../../data/Salesforce/dtc_opportunity_test.csv')"
   ],
   "metadata": {
    "collapsed": false
   }
  },
  {
   "cell_type": "markdown",
   "source": [
    "### Custom wrappers for embedding and clustering models\n",
    "These custom handlers are used to determine the way the data processed before the input to RunInference:\n",
    "1. For anomaly detection model\n",
    "2. For PyTorch model"
   ],
   "metadata": {
    "collapsed": false
   }
  },
  {
   "cell_type": "code",
   "execution_count": 5,
   "outputs": [],
   "source": [
    "import category_encoders as ce\n",
    "import time\n",
    "hasher = ce.HashingEncoder(n_components=64, max_process=1, max_sample=1)\n",
    "\n",
    "def encode_and_normalize(bq_row, hasher=hasher, num_fields=None, id_field='Id'):\n",
    "    if num_fields is None:\n",
    "        num_fields = ['Amount']\n",
    "\n",
    "    amount_mean = 1137889.913561848\n",
    "    amount_std = 1197302.0975264315\n",
    "\n",
    "\n",
    "    target_list = [getattr(bq_row, feature_name) for feature_name in set(bq_row._fields)-set(num_fields)-set(id_field)]\n",
    "    start_t = time.time()\n",
    "    hashed_list = hasher.fit_transform(np.asarray([target_list]))\n",
    "    print(f'hash took {time.time() - start_t}')\n",
    "    result = (getattr(bq_row, id_field),\n",
    "              {'cont_cols': torch.Tensor([(getattr(bq_row, x)-amount_mean)/amount_std for x in num_fields]).reshape(-1, 1),\n",
    "            'cat_cols': torch.Tensor(hashed_list.to_numpy().reshape(-1, 1))})\n",
    "    return result"
   ],
   "metadata": {
    "collapsed": false
   }
  },
  {
   "cell_type": "markdown",
   "source": [
    "Construct and run the pipeline"
   ],
   "metadata": {
    "collapsed": false
   }
  },
  {
   "cell_type": "code",
   "execution_count": 6,
   "outputs": [],
   "source": [
    "def process_with_ptransform(data_csv):\n",
    "    from pipeline.anomaly_detection.anomaly_detection import AnomalyDetection\n",
    "    with beam.Pipeline(InteractiveRunner()) as p:\n",
    "        input_data = p | \"Read CSV\" >> beam.dataframe.io.read_csv(data_csv)\n",
    "        # For now dropping dates\n",
    "        input_data = input_data.drop(['Billing State/Province',\n",
    "                                      'Created Date',\n",
    "                                      'Close Date',\n",
    "                                      'Account Name',\n",
    "                                      'Product Name',\n",
    "                                      'Opportunity Name',\n",
    "                                      'Opportunity Owner',\n",
    "                                      'Account Owner'], axis=1)\n",
    "        input_data = input_data.drop('#', axis=1)\n",
    "        input_data = input_data.replace('-', '', regex=True)\n",
    "        input_data = input_data.replace('/', '', regex=True)\n",
    "        input_data = input_data.replace(' ', '', regex=True)\n",
    "        input_data = input_data.rename(columns={x: x.replace(' ', '') for x in input_data.columns})\n",
    "        input_data['Id'] = input_data.index\n",
    "        input_data = beam.dataframe.convert.to_pcollection(input_data)\n",
    "\n",
    "        input_data = input_data | AnomalyDetection(encoder_uri='./pretrained/encoder.pth', model_uri='./pretrained/anomaly_detection.model', params_uri='./pretrained/model.params')\n",
    "        return ib.collect(input_data)"
   ],
   "metadata": {
    "collapsed": false
   }
  },
  {
   "cell_type": "code",
   "execution_count": 7,
   "outputs": [],
   "source": [
    "test_2entries = pd.read_csv('../../../data/Salesforce/dtc_opportunity_test.csv')[:2]\n",
    "test_2entries.to_csv('../../../data/Salesforce/test.csv', index=False)"
   ],
   "metadata": {
    "collapsed": false
   }
  },
  {
   "cell_type": "code",
   "execution_count": 8,
   "outputs": [
    {
     "data": {
      "application/javascript": "\n        if (typeof window.interactive_beam_jquery == 'undefined') {\n          var jqueryScript = document.createElement('script');\n          jqueryScript.src = 'https://code.jquery.com/jquery-3.4.1.slim.min.js';\n          jqueryScript.type = 'text/javascript';\n          jqueryScript.onload = function() {\n            var datatableScript = document.createElement('script');\n            datatableScript.src = 'https://cdn.datatables.net/1.10.20/js/jquery.dataTables.min.js';\n            datatableScript.type = 'text/javascript';\n            datatableScript.onload = function() {\n              window.interactive_beam_jquery = jQuery.noConflict(true);\n              window.interactive_beam_jquery(document).ready(function($){\n                \n              });\n            }\n            document.head.appendChild(datatableScript);\n          };\n          document.head.appendChild(jqueryScript);\n        } else {\n          window.interactive_beam_jquery(document).ready(function($){\n            \n          });\n        }"
     },
     "metadata": {},
     "output_type": "display_data"
    },
    {
     "name": "stdout",
     "output_type": "stream",
     "text": [
      "<pipeline.anomaly_detection.anomaly_detection.CustomPytorchModelHandlerTensor object at 0x000002146EA60220>\n",
      "PCollection[Unbatch 'set_column_DataFrame_2286778976096'.None]\n"
     ]
    },
    {
     "data": {
      "text/plain": "<IPython.core.display.HTML object>",
      "text/html": "\n            <link rel=\"stylesheet\" href=\"https://stackpath.bootstrapcdn.com/bootstrap/4.4.1/css/bootstrap.min.css\" integrity=\"sha384-Vkoo8x4CGsO3+Hhxv8T/Q5PaXtkKtu6ug5TOeNV6gBiFeWPGFN9MuhOf23Q9Ifjh\" crossorigin=\"anonymous\">\n            <div id=\"progress_indicator_64564313f7eb1f8f271fdded3be20586\">\n              <div class=\"spinner-border text-info\" role=\"status\"></div>\n              <span class=\"text-info\">Processing... collect</span>\n            </div>\n            "
     },
     "metadata": {},
     "output_type": "display_data"
    },
    {
     "name": "stderr",
     "output_type": "stream",
     "text": [
      "WARNING:root:Resource module is not available for current platform, memory usage cannot be fetched.\n",
      "WARNING:root:Resource module is not available for current platform, memory usage cannot be fetched.\n",
      "WARNING:root:Resource module is not available for current platform, memory usage cannot be fetched.\n",
      "WARNING:root:Resource module is not available for current platform, memory usage cannot be fetched.\n"
     ]
    },
    {
     "name": "stdout",
     "output_type": "stream",
     "text": [
      "Set model config: {'hidden_layers': [[25, 20], [20, 10]], 'epochs': 10, 'lr': 0.0001, 'verbose': 1, 'batch_size': 4}\n",
      "Model `in_features`: 33\n"
     ]
    },
    {
     "data": {
      "application/javascript": "\n        if (typeof window.interactive_beam_jquery == 'undefined') {\n          var jqueryScript = document.createElement('script');\n          jqueryScript.src = 'https://code.jquery.com/jquery-3.4.1.slim.min.js';\n          jqueryScript.type = 'text/javascript';\n          jqueryScript.onload = function() {\n            var datatableScript = document.createElement('script');\n            datatableScript.src = 'https://cdn.datatables.net/1.10.20/js/jquery.dataTables.min.js';\n            datatableScript.type = 'text/javascript';\n            datatableScript.onload = function() {\n              window.interactive_beam_jquery = jQuery.noConflict(true);\n              window.interactive_beam_jquery(document).ready(function($){\n                \n            $(\"#progress_indicator_64564313f7eb1f8f271fdded3be20586\").remove();\n              });\n            }\n            document.head.appendChild(datatableScript);\n          };\n          document.head.appendChild(jqueryScript);\n        } else {\n          window.interactive_beam_jquery(document).ready(function($){\n            \n            $(\"#progress_indicator_64564313f7eb1f8f271fdded3be20586\").remove();\n          });\n        }"
     },
     "metadata": {},
     "output_type": "display_data"
    },
    {
     "name": "stderr",
     "output_type": "stream",
     "text": [
      "WARNING:root:Resource module is not available for current platform, memory usage cannot be fetched.\n",
      "WARNING:root:Resource module is not available for current platform, memory usage cannot be fetched.\n",
      "WARNING:root:Resource module is not available for current platform, memory usage cannot be fetched.\n",
      "WARNING:root:Resource module is not available for current platform, memory usage cannot be fetched.\n"
     ]
    },
    {
     "name": "stdout",
     "output_type": "stream",
     "text": [
      "Set model config: {'hidden_layers': [[25, 20], [20, 10]], 'epochs': 10, 'lr': 0.0001, 'verbose': 1, 'batch_size': 4}\n",
      "Model `in_features`: 33\n"
     ]
    }
   ],
   "source": [
    "data = process_with_ptransform(data_csv='../../../data/Salesforce/test.csv')"
   ],
   "metadata": {
    "collapsed": false
   }
  },
  {
   "cell_type": "code",
   "execution_count": null,
   "outputs": [],
   "source": [],
   "metadata": {
    "collapsed": false
   }
  }
 ],
 "metadata": {
  "kernelspec": {
   "display_name": "Python 3",
   "language": "python",
   "name": "python3"
  },
  "language_info": {
   "codemirror_mode": {
    "name": "ipython",
    "version": 2
   },
   "file_extension": ".py",
   "mimetype": "text/x-python",
   "name": "python",
   "nbconvert_exporter": "python",
   "pygments_lexer": "ipython2",
   "version": "2.7.6"
  }
 },
 "nbformat": 4,
 "nbformat_minor": 0
}
