{
 "cells": [
  {
   "cell_type": "code",
   "execution_count": 1,
   "metadata": {
    "collapsed": true
   },
   "outputs": [],
   "source": [
    "import pandas as pd\n",
    "import torch\n",
    "import numpy as np\n",
    "from autoembedder import Autoembedder, dataloader, fit\n",
    "\n",
    "train_df = pd.read_csv('output_train_final.csv')\n",
    "valid_df = pd.read_csv('output_test_final.csv')\n",
    "\n",
    "torch.set_default_dtype(torch.float64)\n",
    "cat_columns = [x for x in list(set(train_df.columns) - {'Amount'})]\n",
    "\n",
    "for col in cat_columns:\n",
    "    valid_df[col] = valid_df[col].astype('category')"
   ]
  },
  {
   "cell_type": "code",
   "execution_count": 4,
   "outputs": [
    {
     "name": "stdout",
     "output_type": "stream",
     "text": [
      "Num of features 134\n",
      "Set model config: {'hidden_layers': [[25, 20], [20, 10]], 'epochs': 10, 'lr': 0.0001, 'verbose': 1, 'batch_size': 16}\n",
      "Model `in_features`: 128\n"
     ]
    },
    {
     "data": {
      "text/plain": "[1/28]   4%|3          [00:00<?]",
      "application/vnd.jupyter.widget-view+json": {
       "version_major": 2,
       "version_minor": 0,
       "model_id": "4326fd35e9344ef2b7de2bf2ef0852a4"
      }
     },
     "metadata": {},
     "output_type": "display_data"
    },
    {
     "name": "stdout",
     "output_type": "stream",
     "text": [
      "Epoch [1/10]: validation loss: 0.9301772\n"
     ]
    },
    {
     "data": {
      "text/plain": "[1/28]   4%|3          [00:00<?]",
      "application/vnd.jupyter.widget-view+json": {
       "version_major": 2,
       "version_minor": 0,
       "model_id": "9a38c4b061684fd6bf70de180cb0552b"
      }
     },
     "metadata": {},
     "output_type": "display_data"
    },
    {
     "name": "stdout",
     "output_type": "stream",
     "text": [
      "Epoch [2/10]: validation loss: 0.8964528\n"
     ]
    },
    {
     "data": {
      "text/plain": "[1/28]   4%|3          [00:00<?]",
      "application/vnd.jupyter.widget-view+json": {
       "version_major": 2,
       "version_minor": 0,
       "model_id": "2b57814afd464a8eb4f5eaa31c6a6f1e"
      }
     },
     "metadata": {},
     "output_type": "display_data"
    },
    {
     "name": "stdout",
     "output_type": "stream",
     "text": [
      "Epoch [3/10]: validation loss: 0.8567294\n"
     ]
    },
    {
     "data": {
      "text/plain": "[1/28]   4%|3          [00:00<?]",
      "application/vnd.jupyter.widget-view+json": {
       "version_major": 2,
       "version_minor": 0,
       "model_id": "13493708ec2548c4a078fed820135bba"
      }
     },
     "metadata": {},
     "output_type": "display_data"
    },
    {
     "name": "stdout",
     "output_type": "stream",
     "text": [
      "Epoch [4/10]: validation loss: 0.8108294\n"
     ]
    },
    {
     "data": {
      "text/plain": "[1/28]   4%|3          [00:00<?]",
      "application/vnd.jupyter.widget-view+json": {
       "version_major": 2,
       "version_minor": 0,
       "model_id": "a2144835d739460ca0f5b37e00fb6c74"
      }
     },
     "metadata": {},
     "output_type": "display_data"
    },
    {
     "name": "stdout",
     "output_type": "stream",
     "text": [
      "Epoch [5/10]: validation loss: 0.7587883\n"
     ]
    },
    {
     "data": {
      "text/plain": "[1/28]   4%|3          [00:00<?]",
      "application/vnd.jupyter.widget-view+json": {
       "version_major": 2,
       "version_minor": 0,
       "model_id": "e2a2daf204fb431bad1c3add4b1647be"
      }
     },
     "metadata": {},
     "output_type": "display_data"
    },
    {
     "name": "stdout",
     "output_type": "stream",
     "text": [
      "Epoch [6/10]: validation loss: 0.7013601\n"
     ]
    },
    {
     "data": {
      "text/plain": "[1/28]   4%|3          [00:00<?]",
      "application/vnd.jupyter.widget-view+json": {
       "version_major": 2,
       "version_minor": 0,
       "model_id": "36d984e903d64eb795955550686e0659"
      }
     },
     "metadata": {},
     "output_type": "display_data"
    },
    {
     "name": "stdout",
     "output_type": "stream",
     "text": [
      "Epoch [7/10]: validation loss: 0.6404184\n"
     ]
    },
    {
     "data": {
      "text/plain": "[1/28]   4%|3          [00:00<?]",
      "application/vnd.jupyter.widget-view+json": {
       "version_major": 2,
       "version_minor": 0,
       "model_id": "692dc83ed1bf47349943ec07f5c2b92e"
      }
     },
     "metadata": {},
     "output_type": "display_data"
    },
    {
     "name": "stdout",
     "output_type": "stream",
     "text": [
      "Epoch [8/10]: validation loss: 0.5785798\n"
     ]
    },
    {
     "data": {
      "text/plain": "[1/28]   4%|3          [00:00<?]",
      "application/vnd.jupyter.widget-view+json": {
       "version_major": 2,
       "version_minor": 0,
       "model_id": "f3dbae965e434bf4ac4c4864d871b4f4"
      }
     },
     "metadata": {},
     "output_type": "display_data"
    },
    {
     "name": "stdout",
     "output_type": "stream",
     "text": [
      "Epoch [9/10]: validation loss: 0.5184390\n"
     ]
    },
    {
     "data": {
      "text/plain": "[1/28]   4%|3          [00:00<?]",
      "application/vnd.jupyter.widget-view+json": {
       "version_major": 2,
       "version_minor": 0,
       "model_id": "c75b908c891c4e3784832f5e76444285"
      }
     },
     "metadata": {},
     "output_type": "display_data"
    },
    {
     "name": "stdout",
     "output_type": "stream",
     "text": [
      "Epoch [10/10]: validation loss: 0.4621279\n"
     ]
    },
    {
     "data": {
      "text/plain": "Autoembedder(\n  (embeddings): ModuleList(\n    (0): Embedding(134, 127)\n  )\n  (encoder): Sequential(\n    (0): Linear(in_features=128, out_features=25, bias=True)\n    (1): Linear(in_features=25, out_features=20, bias=True)\n    (2): Linear(in_features=20, out_features=10, bias=True)\n  )\n  (decoder): Sequential(\n    (0): Linear(in_features=10, out_features=20, bias=True)\n    (1): Linear(in_features=20, out_features=25, bias=True)\n    (2): Linear(in_features=25, out_features=128, bias=True)\n  )\n)"
     },
     "execution_count": 4,
     "metadata": {},
     "output_type": "execute_result"
    }
   ],
   "source": [
    "parameters = {\n",
    "    \"hidden_layers\": [[25, 20], [20, 10]],\n",
    "    \"epochs\": 10,\n",
    "    \"lr\": 0.0001,\n",
    "    \"verbose\": 1,\n",
    "    \"batch_size\": 16,\n",
    "}\n",
    "\n",
    "\n",
    "train_dl = dataloader(train_df, parameters)\n",
    "valid_dl = dataloader(valid_df, parameters)\n",
    "\n",
    "list_cat = [(134, 127)]\n",
    "\n",
    "print(f'Num of features {train_df.shape[1]}')\n",
    "model = Autoembedder(parameters, num_cont_features=1, embedding_sizes=list_cat)\n",
    "\n",
    "fit(parameters, model, train_dl, valid_dl)"
   ],
   "metadata": {
    "collapsed": false
   }
  },
  {
   "cell_type": "code",
   "execution_count": 5,
   "outputs": [],
   "source": [
    "torch.save(model.state_dict(), 'encoder.pth')"
   ],
   "metadata": {
    "collapsed": false
   }
  },
  {
   "cell_type": "code",
   "execution_count": 6,
   "outputs": [
    {
     "data": {
      "text/plain": "Autoembedder(\n  (embeddings): ModuleList(\n    (0): Embedding(134, 127)\n  )\n  (encoder): Sequential(\n    (0): Linear(in_features=128, out_features=25, bias=True)\n    (1): Linear(in_features=25, out_features=20, bias=True)\n    (2): Linear(in_features=20, out_features=10, bias=True)\n  )\n  (decoder): Sequential(\n    (0): Linear(in_features=10, out_features=20, bias=True)\n    (1): Linear(in_features=20, out_features=25, bias=True)\n    (2): Linear(in_features=25, out_features=128, bias=True)\n  )\n)"
     },
     "execution_count": 6,
     "metadata": {},
     "output_type": "execute_result"
    }
   ],
   "source": [
    "model.eval()"
   ],
   "metadata": {
    "collapsed": false
   }
  },
  {
   "cell_type": "code",
   "execution_count": 146,
   "outputs": [
    {
     "name": "stdout",
     "output_type": "stream",
     "text": [
      "torch.Size([1, 2]) torch.Size([133, 2])\n",
      "tensor([[-0.5834,  0.1895,  0.3949,  ..., -0.8416, -0.8158, -0.9339],\n",
      "        [-0.5831,  0.1894,  0.3957,  ..., -0.8415, -0.8155, -0.9339],\n",
      "        [-0.5839,  0.1897,  0.3934,  ..., -0.8417, -0.8160, -0.9339],\n",
      "        ...,\n",
      "        [-0.5839,  0.1897,  0.3934,  ..., -0.8417, -0.8160, -0.9339],\n",
      "        [-0.5838,  0.1897,  0.3938,  ..., -0.8417, -0.8159, -0.9339],\n",
      "        [-0.5838,  0.1897,  0.3936,  ..., -0.8417, -0.8160, -0.9339]])\n"
     ]
    },
    {
     "name": "stderr",
     "output_type": "stream",
     "text": [
      "C:\\Users\\Marko\\AppData\\Local\\Temp\\ipykernel_19164\\1326792614.py:10: FutureWarning: The frame.append method is deprecated and will be removed from pandas in a future version. Use pandas.concat instead.\n",
      "  result_dataframe = result_dataframe.append(pd.DataFrame(model.code_value.detach().numpy()))\n"
     ]
    }
   ],
   "source": [
    "result = {}\n",
    "result_dataframe = pd.DataFrame()\n",
    "a1 = torch.Tensor(train_df[:2]['Amount'].values).view(1, -1)\n",
    "a2 = torch.Tensor(train_df[:2].drop('Amount', axis=1).values).T\n",
    "print(a1.shape, a2.shape)\n",
    "# x_emb = torch.cat([torch.Tensor(train_df.iloc[:2].values[0]).unsqueeze(0), torch.Tensor(train_df.iloc[:2].values[1::]).view(-1, 1)])\n",
    "# print(x_emb)\n",
    "model(x_cont=torch.Tensor(train_df['Amount'].values).view(1, -1), x_cat=torch.Tensor(train_df.drop('Amount', axis=1).values).T)\n",
    "print(model.code_value)\n",
    "result_dataframe = result_dataframe.append(pd.DataFrame(model.code_value.detach().numpy()))"
   ],
   "metadata": {
    "collapsed": false
   }
  },
  {
   "cell_type": "code",
   "execution_count": 152,
   "outputs": [
    {
     "name": "stdout",
     "output_type": "stream",
     "text": [
      "torch.Size([1, 2]) torch.Size([133, 2])\n",
      "tensor([[-0.5830,  0.1893,  0.3960,  ..., -0.8414, -0.8155, -0.9339],\n",
      "        [-0.5839,  0.1897,  0.3933,  ..., -0.8417, -0.8160, -0.9339],\n",
      "        [-0.5840,  0.1897,  0.3932,  ..., -0.8417, -0.8160, -0.9339],\n",
      "        ...,\n",
      "        [-0.5832,  0.1894,  0.3954,  ..., -0.8415, -0.8156, -0.9339],\n",
      "        [-0.5840,  0.1898,  0.3931,  ..., -0.8417, -0.8160, -0.9339],\n",
      "        [-0.5829,  0.1893,  0.3962,  ..., -0.8414, -0.8154, -0.9338]])\n"
     ]
    },
    {
     "name": "stderr",
     "output_type": "stream",
     "text": [
      "C:\\Users\\Marko\\AppData\\Local\\Temp\\ipykernel_19164\\560381377.py:10: FutureWarning: The frame.append method is deprecated and will be removed from pandas in a future version. Use pandas.concat instead.\n",
      "  test_dataframe = test_dataframe.append(pd.DataFrame(model.code_value.detach().numpy()))\n"
     ]
    }
   ],
   "source": [
    "result = {}\n",
    "test_dataframe = pd.DataFrame()\n",
    "a1 = torch.Tensor(train_df[:2]['Amount'].values).view(1, -1)\n",
    "a2 = torch.Tensor(train_df[:2].drop('Amount', axis=1).values).T\n",
    "print(a1.shape, a2.shape)\n",
    "# x_emb = torch.cat([torch.Tensor(train_df.iloc[:2].values[0]).unsqueeze(0), torch.Tensor(train_df.iloc[:2].values[1::]).view(-1, 1)])\n",
    "# print(x_emb)\n",
    "model(x_cont=torch.Tensor(valid_df['Amount'].values).view(1, -1), x_cat=torch.Tensor(valid_df.drop('Amount', axis=1).values).T)\n",
    "print(model.code_value)\n",
    "test_dataframe = test_dataframe.append(pd.DataFrame(model.code_value.detach().numpy()))"
   ],
   "metadata": {
    "collapsed": false
   }
  },
  {
   "cell_type": "code",
   "execution_count": 153,
   "outputs": [
    {
     "data": {
      "text/plain": "            0         1         2         3         4         5         6  \\\n0   -0.582979  0.189334  0.395955  0.610701  0.670229  0.966952 -0.843092   \n1   -0.583910  0.189727  0.393315  0.609252  0.668994  0.966940 -0.843969   \n2   -0.583955  0.189746  0.393154  0.609143  0.668890  0.966933 -0.844004   \n3   -0.580105  0.188378  0.400719  0.610940  0.668796  0.966307 -0.839361   \n4   -0.583449  0.189528  0.394758  0.610129  0.669793  0.966970 -0.843567   \n..        ...       ...       ...       ...       ...       ...       ...   \n110 -0.583468  0.189536  0.394705  0.610100  0.669768  0.966970 -0.843585   \n111 -0.582679  0.189216  0.396619  0.610945  0.670360  0.966921 -0.842761   \n112 -0.583190  0.189420  0.395445  0.610477  0.670072  0.966965 -0.843312   \n113 -0.583968  0.189752  0.393109  0.609113  0.668860  0.966932 -0.844014   \n114 -0.582873  0.189292  0.396198  0.610797  0.670287  0.966942 -0.842977   \n\n            7         8         9  \n0   -0.841430 -0.815476 -0.933859  \n1   -0.841682 -0.815998 -0.933933  \n2   -0.841682 -0.816015 -0.933929  \n3   -0.839074 -0.812728 -0.932738  \n4   -0.841610 -0.815778 -0.933928  \n..        ...       ...       ...  \n110 -0.841616 -0.815789 -0.933929  \n111 -0.841272 -0.815252 -0.933791  \n112 -0.841522 -0.815619 -0.933897  \n113 -0.841682 -0.816019 -0.933928  \n114 -0.841377 -0.815399 -0.933837  \n\n[115 rows x 10 columns]",
      "text/html": "<div>\n<style scoped>\n    .dataframe tbody tr th:only-of-type {\n        vertical-align: middle;\n    }\n\n    .dataframe tbody tr th {\n        vertical-align: top;\n    }\n\n    .dataframe thead th {\n        text-align: right;\n    }\n</style>\n<table border=\"1\" class=\"dataframe\">\n  <thead>\n    <tr style=\"text-align: right;\">\n      <th></th>\n      <th>0</th>\n      <th>1</th>\n      <th>2</th>\n      <th>3</th>\n      <th>4</th>\n      <th>5</th>\n      <th>6</th>\n      <th>7</th>\n      <th>8</th>\n      <th>9</th>\n    </tr>\n  </thead>\n  <tbody>\n    <tr>\n      <th>0</th>\n      <td>-0.582979</td>\n      <td>0.189334</td>\n      <td>0.395955</td>\n      <td>0.610701</td>\n      <td>0.670229</td>\n      <td>0.966952</td>\n      <td>-0.843092</td>\n      <td>-0.841430</td>\n      <td>-0.815476</td>\n      <td>-0.933859</td>\n    </tr>\n    <tr>\n      <th>1</th>\n      <td>-0.583910</td>\n      <td>0.189727</td>\n      <td>0.393315</td>\n      <td>0.609252</td>\n      <td>0.668994</td>\n      <td>0.966940</td>\n      <td>-0.843969</td>\n      <td>-0.841682</td>\n      <td>-0.815998</td>\n      <td>-0.933933</td>\n    </tr>\n    <tr>\n      <th>2</th>\n      <td>-0.583955</td>\n      <td>0.189746</td>\n      <td>0.393154</td>\n      <td>0.609143</td>\n      <td>0.668890</td>\n      <td>0.966933</td>\n      <td>-0.844004</td>\n      <td>-0.841682</td>\n      <td>-0.816015</td>\n      <td>-0.933929</td>\n    </tr>\n    <tr>\n      <th>3</th>\n      <td>-0.580105</td>\n      <td>0.188378</td>\n      <td>0.400719</td>\n      <td>0.610940</td>\n      <td>0.668796</td>\n      <td>0.966307</td>\n      <td>-0.839361</td>\n      <td>-0.839074</td>\n      <td>-0.812728</td>\n      <td>-0.932738</td>\n    </tr>\n    <tr>\n      <th>4</th>\n      <td>-0.583449</td>\n      <td>0.189528</td>\n      <td>0.394758</td>\n      <td>0.610129</td>\n      <td>0.669793</td>\n      <td>0.966970</td>\n      <td>-0.843567</td>\n      <td>-0.841610</td>\n      <td>-0.815778</td>\n      <td>-0.933928</td>\n    </tr>\n    <tr>\n      <th>...</th>\n      <td>...</td>\n      <td>...</td>\n      <td>...</td>\n      <td>...</td>\n      <td>...</td>\n      <td>...</td>\n      <td>...</td>\n      <td>...</td>\n      <td>...</td>\n      <td>...</td>\n    </tr>\n    <tr>\n      <th>110</th>\n      <td>-0.583468</td>\n      <td>0.189536</td>\n      <td>0.394705</td>\n      <td>0.610100</td>\n      <td>0.669768</td>\n      <td>0.966970</td>\n      <td>-0.843585</td>\n      <td>-0.841616</td>\n      <td>-0.815789</td>\n      <td>-0.933929</td>\n    </tr>\n    <tr>\n      <th>111</th>\n      <td>-0.582679</td>\n      <td>0.189216</td>\n      <td>0.396619</td>\n      <td>0.610945</td>\n      <td>0.670360</td>\n      <td>0.966921</td>\n      <td>-0.842761</td>\n      <td>-0.841272</td>\n      <td>-0.815252</td>\n      <td>-0.933791</td>\n    </tr>\n    <tr>\n      <th>112</th>\n      <td>-0.583190</td>\n      <td>0.189420</td>\n      <td>0.395445</td>\n      <td>0.610477</td>\n      <td>0.670072</td>\n      <td>0.966965</td>\n      <td>-0.843312</td>\n      <td>-0.841522</td>\n      <td>-0.815619</td>\n      <td>-0.933897</td>\n    </tr>\n    <tr>\n      <th>113</th>\n      <td>-0.583968</td>\n      <td>0.189752</td>\n      <td>0.393109</td>\n      <td>0.609113</td>\n      <td>0.668860</td>\n      <td>0.966932</td>\n      <td>-0.844014</td>\n      <td>-0.841682</td>\n      <td>-0.816019</td>\n      <td>-0.933928</td>\n    </tr>\n    <tr>\n      <th>114</th>\n      <td>-0.582873</td>\n      <td>0.189292</td>\n      <td>0.396198</td>\n      <td>0.610797</td>\n      <td>0.670287</td>\n      <td>0.966942</td>\n      <td>-0.842977</td>\n      <td>-0.841377</td>\n      <td>-0.815399</td>\n      <td>-0.933837</td>\n    </tr>\n  </tbody>\n</table>\n<p>115 rows × 10 columns</p>\n</div>"
     },
     "execution_count": 153,
     "metadata": {},
     "output_type": "execute_result"
    }
   ],
   "source": [
    "test_dataframe"
   ],
   "metadata": {
    "collapsed": false
   }
  },
  {
   "cell_type": "code",
   "execution_count": 150,
   "outputs": [
    {
     "data": {
      "text/plain": "['anomaly_detection.model']"
     },
     "execution_count": 150,
     "metadata": {},
     "output_type": "execute_result"
    }
   ],
   "source": [
    "import hdbscan\n",
    "from joblib import dump, load\n",
    "clusterer = hdbscan.HDBSCAN(prediction_data=True).fit(result_dataframe)\n",
    "dump(clusterer, 'anomaly_detection.model')"
   ],
   "metadata": {
    "collapsed": false
   }
  },
  {
   "cell_type": "code",
   "execution_count": 151,
   "outputs": [
    {
     "data": {
      "text/plain": "<AxesSubplot: ylabel='$\\\\lambda$ value'>"
     },
     "execution_count": 151,
     "metadata": {},
     "output_type": "execute_result"
    },
    {
     "data": {
      "text/plain": "<Figure size 640x480 with 2 Axes>",
      "image/png": "[encoded data removed]"
     },
     "metadata": {},
     "output_type": "display_data"
    }
   ],
   "source": [
    "clusterer.condensed_tree_.plot()"
   ],
   "metadata": {
    "collapsed": false
   }
  }
 ],
 "metadata": {
  "kernelspec": {
   "display_name": "Python 3",
   "language": "python",
   "name": "python3"
  },
  "language_info": {
   "codemirror_mode": {
    "name": "ipython",
    "version": 2
   },
   "file_extension": ".py",
   "mimetype": "text/x-python",
   "name": "python",
   "nbconvert_exporter": "python",
   "pygments_lexer": "ipython2",
   "version": "2.7.6"
  }
 },
 "nbformat": 4,
 "nbformat_minor": 0
}
