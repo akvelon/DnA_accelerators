{
 "cells": [
  {
   "cell_type": "code",
   "execution_count": 1,
   "outputs": [],
   "source": [
    "import hdbscan\n",
    "import apache_beam as beam\n",
    "import numpy as np\n",
    "import pandas as pd\n",
    "\n",
    "import torch\n",
    "\n",
    "from sklearn.model_selection import train_test_split\n",
    "from apache_beam import dataframe\n",
    "from apache_beam.ml.inference.base import RunInference, PredictionResult\n",
    "from apache_beam.ml.inference.sklearn_inference import SklearnModelHandlerNumpy\n",
    "from apache_beam.ml.inference.sklearn_inference import ModelFileType\n",
    "from apache_beam.runners.interactive.interactive_runner import InteractiveRunner\n",
    "from apache_beam.ml.inference.pytorch_inference import PytorchModelHandlerTensor, _convert_to_result\n",
    "from apache_beam.ml.inference.base import KeyedModelHandler\n",
    "from autoembedder import Autoembedder\n",
    "import apache_beam.runners.interactive.interactive_beam as ib"
   ],
   "metadata": {
    "collapsed": false
   }
  },
  {
   "cell_type": "code",
   "execution_count": 2,
   "outputs": [],
   "source": [
    "ib.options.num = '10m'"
   ],
   "metadata": {
    "collapsed": false
   }
  },
  {
   "cell_type": "code",
   "execution_count": 4,
   "outputs": [],
   "source": [
    "# data = pd.read_csv('../data/dtc_opportunity.csv')\n",
    "# train, test = train_test_split(data, test_size=0.1, random_state=42, shuffle=True)\n",
    "# train.to_csv('../data/dtc_opportunity_train.csv', index=False)\n",
    "# test.to_csv('../data/dtc_opportunity_test.csv', index=False)\n",
    "# # Uncomment for data split"
   ],
   "metadata": {
    "collapsed": false
   }
  },
  {
   "cell_type": "code",
   "execution_count": 5,
   "outputs": [],
   "source": [
    "train = pd.read_csv('../data/dtc_opportunity_train.csv')\n",
    "test = pd.read_csv('../data/dtc_opportunity_test.csv')"
   ],
   "metadata": {
    "collapsed": false
   }
  },
  {
   "cell_type": "markdown",
   "source": [
    "### Custom wrappers for embedding and clustering models\n",
    "These custom handlers are used to determine the way the data processed before the input to RunInference:\n",
    "1. For anomaly detection model\n",
    "2. For PyTorch model"
   ],
   "metadata": {
    "collapsed": false
   }
  },
  {
   "cell_type": "code",
   "execution_count": 5,
   "outputs": [],
   "source": [
    "class CustomSklearnModelHandlerNumpy(SklearnModelHandlerNumpy):\n",
    "    def run_inference(self, batch, model, inference_args=None):\n",
    "        predictions = hdbscan.approximate_predict(model, batch)\n",
    "        return [PredictionResult(x, y) for x, y in zip(batch, predictions[0])]"
   ],
   "metadata": {
    "collapsed": false
   }
  },
  {
   "cell_type": "code",
   "execution_count": 6,
   "outputs": [],
   "source": [
    "class CustomPytorchModelHandlerTensor(PytorchModelHandlerTensor):\n",
    "    def run_inference(self, batch, model, inference_args=None):\n",
    "\n",
    "        with torch.no_grad():\n",
    "            list_of_cont_tensors = []\n",
    "            list_of_cat_tensors = []\n",
    "            for item in batch:\n",
    "                # print(item['cont_cols'].shape)\n",
    "                # print(item['cat_cols'].shape)\n",
    "                list_of_cont_tensors.append(item['cont_cols'])\n",
    "                list_of_cat_tensors.append(item['cat_cols'])\n",
    "\n",
    "\n",
    "            batched_tensors_cont = torch.hstack(list_of_cont_tensors)\n",
    "            batched_tensors_cat = torch.hstack(list_of_cat_tensors)\n",
    "\n",
    "            # print(batched_tensors_cont)\n",
    "            # print(batched_tensors_cat.shape)\n",
    "\n",
    "            model(x_cont=batched_tensors_cont, x_cat=batched_tensors_cat)\n",
    "            predictions = model.code_value\n",
    "            return _convert_to_result(batch, predictions)\n",
    "\n",
    "    def get_num_bytes(self, batch) -> int:\n",
    "        return sum((el[key].element_size() for el in batch for key in el.keys()))"
   ],
   "metadata": {
    "collapsed": false
   }
  },
  {
   "cell_type": "markdown",
   "source": [
    "#### Decode predictions ParDo\n",
    "returns dict results"
   ],
   "metadata": {
    "collapsed": false
   }
  },
  {
   "cell_type": "code",
   "execution_count": 7,
   "outputs": [],
   "source": [
    "class DecodePrediction(beam.DoFn):\n",
    "    def process(self, element):\n",
    "        uid, prediction = element\n",
    "        cluster = prediction.inference.tolist()\n",
    "        bq_dict = {\"id\": uid, \"cluster\": cluster}\n",
    "        yield bq_dict"
   ],
   "metadata": {
    "collapsed": false
   }
  },
  {
   "cell_type": "markdown",
   "source": [
    "Define model parameters"
   ],
   "metadata": {
    "collapsed": false
   }
  },
  {
   "cell_type": "code",
   "execution_count": 8,
   "outputs": [],
   "source": [
    "parameters = {\n",
    "    \"hidden_layers\": [[25, 20], [20, 10]],\n",
    "    \"epochs\": 10,\n",
    "    \"lr\": 0.0001,\n",
    "    \"verbose\": 1,\n",
    "    \"batch_size\": 16,\n",
    "}\n",
    "list_cat = [(64, 32)]\n",
    "num_cont_features = 1"
   ],
   "metadata": {
    "collapsed": false
   }
  },
  {
   "cell_type": "code",
   "execution_count": 9,
   "outputs": [],
   "source": [
    "anomaly_detection_model_handler = CustomSklearnModelHandlerNumpy(model_uri='pretrained/anomaly_detection.model',\n",
    "                                                                 model_file_type=ModelFileType.JOBLIB)\n",
    "\n",
    "encoder_handler = CustomPytorchModelHandlerTensor(state_dict_path='pretrained/encoder.pth',\n",
    "                                            model_class=Autoembedder, model_params={'config': parameters, 'num_cont_features': num_cont_features, 'embedding_sizes': list_cat})"
   ],
   "metadata": {
    "collapsed": false
   }
  },
  {
   "cell_type": "code",
   "execution_count": 10,
   "outputs": [],
   "source": [
    "import category_encoders as ce\n",
    "import time\n",
    "hasher = ce.HashingEncoder(n_components=64, max_process=1, max_sample=1)\n",
    "\n",
    "def encode_and_normalize(bq_row, hasher=hasher, num_fields=None, id_field='Id'):\n",
    "    if num_fields is None:\n",
    "        num_fields = ['Amount']\n",
    "\n",
    "    amount_mean = 1137889.913561848\n",
    "    amount_std = 1197302.0975264315\n",
    "\n",
    "\n",
    "    target_list = [getattr(bq_row, feature_name) for feature_name in set(bq_row._fields)-set(num_fields)-set(id_field)]\n",
    "    start_t = time.time()\n",
    "    hashed_list = hasher.fit_transform(np.asarray([target_list]))\n",
    "    print(f'hash took {time.time() - start_t}')\n",
    "    result = (getattr(bq_row, id_field),\n",
    "              {'cont_cols': torch.Tensor([(getattr(bq_row, x)-amount_mean)/amount_std for x in num_fields]).reshape(-1, 1),\n",
    "            'cat_cols': torch.Tensor(hashed_list.to_numpy().reshape(-1, 1))})\n",
    "    return result"
   ],
   "metadata": {
    "collapsed": false
   }
  },
  {
   "cell_type": "markdown",
   "source": [
    "Construct and run the pipeline"
   ],
   "metadata": {
    "collapsed": false
   }
  },
  {
   "cell_type": "code",
   "execution_count": 12,
   "outputs": [],
   "source": [
    "def process_with_pipeline(data_csv):\n",
    "    with beam.Pipeline(InteractiveRunner()) as p:\n",
    "        input_data = p | \"Read CSV\" >> beam.dataframe.io.read_csv(data_csv)\n",
    "        # For now dropping dates\n",
    "        input_data = input_data.drop(['Billing State/Province',\n",
    "                                      'Created Date',\n",
    "                                      'Close Date',\n",
    "                                      'Account Name',\n",
    "                                      'Product Name',\n",
    "                                      'Opportunity Name',\n",
    "                                      'Opportunity Owner',\n",
    "                                      'Account Owner'], axis=1)\n",
    "        input_data = input_data.drop('#', axis=1)\n",
    "        input_data = input_data.replace('-', '', regex=True)\n",
    "        input_data = input_data.replace('/', '', regex=True)\n",
    "        input_data = input_data.replace(' ', '', regex=True)\n",
    "        input_data = input_data.rename(columns={x: x.replace(' ', '') for x in input_data.columns})\n",
    "        input_data['Id'] = input_data.index\n",
    "        input_data = beam.dataframe.convert.to_pcollection(input_data)\n",
    "\n",
    "        keyed_anomalies = (\n",
    "                input_data\n",
    "                | beam.Map(encode_and_normalize)\n",
    "                | \"Encode\" >> RunInference(model_handler=KeyedModelHandler(encoder_handler))\n",
    "                | \"Concat features\" >> beam.Map(lambda x: (x[0], x[1].inference.detach().numpy()))\n",
    "                | \"Detect anomaly\" >> RunInference(model_handler=KeyedModelHandler(anomaly_detection_model_handler))\n",
    "                | \"Get predictions\" >> beam.ParDo(DecodePrediction())\n",
    "                | \"Write output\" >> beam.io.textio.WriteToText(file_path_prefix='prediction_output/shard')\n",
    "        )\n",
    "\n",
    "        return keyed_anomalies"
   ],
   "metadata": {
    "collapsed": false
   }
  },
  {
   "cell_type": "markdown",
   "source": [
    "Run the pipeline on the test data"
   ],
   "metadata": {
    "collapsed": false
   }
  },
  {
   "cell_type": "code",
   "execution_count": 11,
   "outputs": [
    {
     "ename": "NameError",
     "evalue": "name 'process_with_pipeline' is not defined",
     "output_type": "error",
     "traceback": [
      "\u001B[1;31m---------------------------------------------------------------------------\u001B[0m",
      "\u001B[1;31mNameError\u001B[0m                                 Traceback (most recent call last)",
      "Cell \u001B[1;32mIn[11], line 1\u001B[0m\n\u001B[1;32m----> 1\u001B[0m \u001B[43mprocess_with_pipeline\u001B[49m(data_csv\u001B[38;5;241m=\u001B[39m\u001B[38;5;124m'\u001B[39m\u001B[38;5;124mdtc_opportunity_test.csv\u001B[39m\u001B[38;5;124m'\u001B[39m)\n",
      "\u001B[1;31mNameError\u001B[0m: name 'process_with_pipeline' is not defined"
     ]
    }
   ],
   "source": [
    "process_with_pipeline(data_csv='dtc_opportunity_test.csv')"
   ],
   "metadata": {
    "collapsed": false
   }
  },
  {
   "cell_type": "markdown",
   "source": [
    "Display the data"
   ],
   "metadata": {
    "collapsed": false
   }
  },
  {
   "cell_type": "code",
   "execution_count": 14,
   "outputs": [],
   "source": [
    "import json\n",
    "result = []\n",
    "with open(\"prediction_output/shard-00000-of-00001\") as f:\n",
    "    for line in f:\n",
    "        line = line.replace(\"'\", '\"')\n",
    "        result.append(json.loads(line))"
   ],
   "metadata": {
    "collapsed": false
   }
  },
  {
   "cell_type": "code",
   "execution_count": 15,
   "outputs": [],
   "source": [
    "result_df = pd.DataFrame.from_dict(result)"
   ],
   "metadata": {
    "collapsed": false
   }
  },
  {
   "cell_type": "code",
   "execution_count": 16,
   "outputs": [
    {
     "data": {
      "text/plain": "<AxesSubplot: xlabel='cluster'>"
     },
     "execution_count": 16,
     "metadata": {},
     "output_type": "execute_result"
    },
    {
     "data": {
      "text/plain": "<Figure size 640x480 with 1 Axes>",
      "image/png": "[encoded data removed]"
     },
     "metadata": {},
     "output_type": "display_data"
    }
   ],
   "source": [
    "result_df.groupby([result_df['cluster']]).count().plot(kind='bar')"
   ],
   "metadata": {
    "collapsed": false
   }
  },
  {
   "cell_type": "code",
   "execution_count": 17,
   "outputs": [],
   "source": [
    "pd.read_csv('dtc_opportunity_test.csv').iloc[:16].to_csv('dtc_opportunity_test_low.csv', index=False)"
   ],
   "metadata": {
    "collapsed": false
   }
  },
  {
   "cell_type": "code",
   "execution_count": 17,
   "outputs": [],
   "source": [],
   "metadata": {
    "collapsed": false
   }
  }
 ],
 "metadata": {
  "kernelspec": {
   "display_name": "Python 3",
   "language": "python",
   "name": "python3"
  },
  "language_info": {
   "codemirror_mode": {
    "name": "ipython",
    "version": 2
   },
   "file_extension": ".py",
   "mimetype": "text/x-python",
   "name": "python",
   "nbconvert_exporter": "python",
   "pygments_lexer": "ipython2",
   "version": "2.7.6"
  }
 },
 "nbformat": 4,
 "nbformat_minor": 0
}
