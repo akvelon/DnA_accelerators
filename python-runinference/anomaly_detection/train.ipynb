{
 "cells": [
  {
   "cell_type": "code",
   "execution_count": 1,
   "outputs": [],
   "source": [
    " # Copyright 2023 Akvelon Inc.\n",
    " #\n",
    " # Licensed to the Apache Software Foundation (ASF) under one\n",
    " # or more contributor license agreements.  See the NOTICE file\n",
    " # distributed with this work for additional information\n",
    " # regarding copyright ownership.  The ASF licenses this file\n",
    " # to you under the Apache License, Version 2.0 (the\n",
    " # \"License\"); you may not use this file except in compliance\n",
    " # with the License.  You may obtain a copy of the License at\n",
    " #\n",
    " #     http://www.apache.org/licenses/LICENSE-2.0\n",
    " #\n",
    " # Unless required by applicable law or agreed to in writing, software\n",
    " # distributed under the License is distributed on an \"AS IS\" BASIS,\n",
    " # WITHOUT WARRANTIES OR CONDITIONS OF ANY KIND, either express or implied.\n",
    " # See the License for the specific language governing permissions and\n",
    " # limitations under the License."
   ],
   "metadata": {
    "collapsed": false
   }
  },
  {
   "cell_type": "code",
   "execution_count": 2,
   "outputs": [],
   "source": [
    "import pandas as pd\n",
    "import torch\n",
    "\n",
    "import category_encoders as ce\n",
    "from sklearn.model_selection import train_test_split\n",
    "from autoembedder import Autoembedder, dataloader, fit"
   ],
   "metadata": {
    "collapsed": false
   }
  },
  {
   "cell_type": "code",
   "execution_count": 3,
   "outputs": [],
   "source": [
    "input_data = pd.read_csv('../data/dtc_opportunity.csv')\n",
    "\n",
    "torch.set_default_dtype(torch.float64)\n",
    "cat_columns = [x for x in list(set(input_data.columns) - {'Amount'})]\n",
    "ce_hash = ce.HashingEncoder(cols=cat_columns, n_components=64)"
   ],
   "metadata": {
    "collapsed": false
   }
  },
  {
   "cell_type": "markdown",
   "source": [
    "Encode the data with hasher"
   ],
   "metadata": {
    "collapsed": false
   }
  },
  {
   "cell_type": "code",
   "execution_count": 4,
   "outputs": [],
   "source": [
    "hashed_input_data = ce_hash.fit_transform(input_data)\n",
    "hashed_input_data['Amount'] = hashed_input_data['Amount'].astype(float)\n",
    "hashed_input_data['Amount'] = (hashed_input_data['Amount'] - hashed_input_data['Amount'].mean())/hashed_input_data['Amount'].std()\n",
    "\n",
    "for col in set(hashed_input_data.columns) - {'Amount'}:\n",
    "    hashed_input_data[col] = hashed_input_data[col].astype('category')"
   ],
   "metadata": {
    "collapsed": false
   }
  },
  {
   "cell_type": "code",
   "execution_count": 5,
   "outputs": [],
   "source": [
    "train_df, valid_df = train_test_split(hashed_input_data,\n",
    "                                   random_state=42,\n",
    "                                   test_size=0.1,\n",
    "                                   shuffle=True)"
   ],
   "metadata": {
    "collapsed": false
   }
  },
  {
   "cell_type": "markdown",
   "source": [
    "Define torch autoencoder model parameters"
   ],
   "metadata": {
    "collapsed": false
   }
  },
  {
   "cell_type": "code",
   "execution_count": 6,
   "outputs": [],
   "source": [
    "parameters = {\n",
    "    # \"cat_columns\": list(set(hashed_input_data.columns) - {'Amount'}),\n",
    "    \"hidden_layers\": [[25, 20], [20, 10]],\n",
    "    \"epochs\": 10,\n",
    "    \"lr\": 0.0001,\n",
    "    \"verbose\": 1,\n",
    "    \"batch_size\": 4,\n",
    "}"
   ],
   "metadata": {
    "collapsed": false
   }
  },
  {
   "cell_type": "markdown",
   "source": [
    "Define dataloaders for training"
   ],
   "metadata": {
    "collapsed": false
   }
  },
  {
   "cell_type": "code",
   "execution_count": 7,
   "outputs": [],
   "source": [
    "train_dl = dataloader(train_df, parameters)\n",
    "valid_dl = dataloader(valid_df, parameters)"
   ],
   "metadata": {
    "collapsed": false
   }
  },
  {
   "cell_type": "markdown",
   "source": [
    "Train the model\n",
    "\n",
    "Num_cont_features is the number of columns with continuous values"
   ],
   "metadata": {
    "collapsed": false
   }
  },
  {
   "cell_type": "code",
   "execution_count": 8,
   "outputs": [
    {
     "name": "stdout",
     "output_type": "stream",
     "text": [
      "Set model config: {'hidden_layers': [[25, 20], [20, 10]], 'epochs': 10, 'lr': 0.0001, 'verbose': 1, 'batch_size': 4}\n",
      "Model `in_features`: 33\n"
     ]
    },
    {
     "data": {
      "text/plain": "[1/150]   1%|           [00:00<?]",
      "application/vnd.jupyter.widget-view+json": {
       "version_major": 2,
       "version_minor": 0,
       "model_id": "638c5f39db1341bf95832c6a784630b3"
      }
     },
     "metadata": {},
     "output_type": "display_data"
    },
    {
     "name": "stdout",
     "output_type": "stream",
     "text": [
      "Epoch [1/10]: validation loss: 0.7720246\n"
     ]
    },
    {
     "data": {
      "text/plain": "[1/150]   1%|           [00:00<?]",
      "application/vnd.jupyter.widget-view+json": {
       "version_major": 2,
       "version_minor": 0,
       "model_id": "75be177edc594814a96d6595ef2f9d15"
      }
     },
     "metadata": {},
     "output_type": "display_data"
    },
    {
     "name": "stdout",
     "output_type": "stream",
     "text": [
      "Epoch [2/10]: validation loss: 0.4851550\n"
     ]
    },
    {
     "data": {
      "text/plain": "[1/150]   1%|           [00:00<?]",
      "application/vnd.jupyter.widget-view+json": {
       "version_major": 2,
       "version_minor": 0,
       "model_id": "77c2201d82964e29977c855833cbae1a"
      }
     },
     "metadata": {},
     "output_type": "display_data"
    },
    {
     "name": "stdout",
     "output_type": "stream",
     "text": [
      "Epoch [3/10]: validation loss: 0.2808689\n"
     ]
    },
    {
     "data": {
      "text/plain": "[1/150]   1%|           [00:00<?]",
      "application/vnd.jupyter.widget-view+json": {
       "version_major": 2,
       "version_minor": 0,
       "model_id": "4c2eeb81eed2465698512d987fbd2d38"
      }
     },
     "metadata": {},
     "output_type": "display_data"
    },
    {
     "name": "stdout",
     "output_type": "stream",
     "text": [
      "Epoch [4/10]: validation loss: 0.1683305\n"
     ]
    },
    {
     "data": {
      "text/plain": "[1/150]   1%|           [00:00<?]",
      "application/vnd.jupyter.widget-view+json": {
       "version_major": 2,
       "version_minor": 0,
       "model_id": "691a4658809547c98c1dc00f0ac0093e"
      }
     },
     "metadata": {},
     "output_type": "display_data"
    },
    {
     "name": "stdout",
     "output_type": "stream",
     "text": [
      "Epoch [5/10]: validation loss: 0.1039945\n"
     ]
    },
    {
     "data": {
      "text/plain": "[1/150]   1%|           [00:00<?]",
      "application/vnd.jupyter.widget-view+json": {
       "version_major": 2,
       "version_minor": 0,
       "model_id": "c2e87a00929f41e2a5dab757ffd206ee"
      }
     },
     "metadata": {},
     "output_type": "display_data"
    },
    {
     "name": "stdout",
     "output_type": "stream",
     "text": [
      "Epoch [6/10]: validation loss: 0.0662733\n"
     ]
    },
    {
     "data": {
      "text/plain": "[1/150]   1%|           [00:00<?]",
      "application/vnd.jupyter.widget-view+json": {
       "version_major": 2,
       "version_minor": 0,
       "model_id": "436208f59aa24fe09848aa0dd1d6034b"
      }
     },
     "metadata": {},
     "output_type": "display_data"
    },
    {
     "name": "stdout",
     "output_type": "stream",
     "text": [
      "Epoch [7/10]: validation loss: 0.0448227\n"
     ]
    },
    {
     "data": {
      "text/plain": "[1/150]   1%|           [00:00<?]",
      "application/vnd.jupyter.widget-view+json": {
       "version_major": 2,
       "version_minor": 0,
       "model_id": "21f8cf51b5064f6b9471dd109eaa4324"
      }
     },
     "metadata": {},
     "output_type": "display_data"
    },
    {
     "name": "stdout",
     "output_type": "stream",
     "text": [
      "Epoch [8/10]: validation loss: 0.0331243\n"
     ]
    },
    {
     "data": {
      "text/plain": "[1/150]   1%|           [00:00<?]",
      "application/vnd.jupyter.widget-view+json": {
       "version_major": 2,
       "version_minor": 0,
       "model_id": "c766c3820f89474ea2a2db911eddc1f9"
      }
     },
     "metadata": {},
     "output_type": "display_data"
    },
    {
     "name": "stdout",
     "output_type": "stream",
     "text": [
      "Epoch [9/10]: validation loss: 0.0268945\n"
     ]
    },
    {
     "data": {
      "text/plain": "[1/150]   1%|           [00:00<?]",
      "application/vnd.jupyter.widget-view+json": {
       "version_major": 2,
       "version_minor": 0,
       "model_id": "9d99728d943449bb939770f039ee64b2"
      }
     },
     "metadata": {},
     "output_type": "display_data"
    },
    {
     "name": "stdout",
     "output_type": "stream",
     "text": [
      "Epoch [10/10]: validation loss: 0.0235804\n"
     ]
    },
    {
     "data": {
      "text/plain": "Autoembedder(\n  (embeddings): ModuleList(\n    (0): Embedding(64, 32)\n  )\n  (encoder): Sequential(\n    (0): Linear(in_features=33, out_features=25, bias=True)\n    (1): Linear(in_features=25, out_features=20, bias=True)\n    (2): Linear(in_features=20, out_features=10, bias=True)\n  )\n  (decoder): Sequential(\n    (0): Linear(in_features=10, out_features=20, bias=True)\n    (1): Linear(in_features=20, out_features=25, bias=True)\n    (2): Linear(in_features=25, out_features=33, bias=True)\n  )\n)"
     },
     "execution_count": 8,
     "metadata": {},
     "output_type": "execute_result"
    }
   ],
   "source": [
    "list_cat = [(64, 32)]\n",
    "\n",
    "model = Autoembedder(parameters, num_cont_features=1, embedding_sizes=list_cat)\n",
    "\n",
    "fit(parameters, model, train_dl, valid_dl)"
   ],
   "metadata": {
    "collapsed": false
   }
  },
  {
   "cell_type": "markdown",
   "source": [
    "Save the torch model"
   ],
   "metadata": {
    "collapsed": false
   }
  },
  {
   "cell_type": "code",
   "execution_count": 9,
   "outputs": [],
   "source": [
    "torch.save(model.state_dict(), 'pretrained/encoder.pth')"
   ],
   "metadata": {
    "collapsed": false
   }
  },
  {
   "cell_type": "code",
   "execution_count": 10,
   "outputs": [
    {
     "data": {
      "text/plain": "Autoembedder(\n  (embeddings): ModuleList(\n    (0): Embedding(64, 32)\n  )\n  (encoder): Sequential(\n    (0): Linear(in_features=33, out_features=25, bias=True)\n    (1): Linear(in_features=25, out_features=20, bias=True)\n    (2): Linear(in_features=20, out_features=10, bias=True)\n  )\n  (decoder): Sequential(\n    (0): Linear(in_features=10, out_features=20, bias=True)\n    (1): Linear(in_features=20, out_features=25, bias=True)\n    (2): Linear(in_features=25, out_features=33, bias=True)\n  )\n)"
     },
     "execution_count": 10,
     "metadata": {},
     "output_type": "execute_result"
    }
   ],
   "source": [
    "model.eval()"
   ],
   "metadata": {
    "collapsed": false
   }
  },
  {
   "cell_type": "code",
   "execution_count": 11,
   "outputs": [],
   "source": [
    "test_df = pd.read_csv('../data/dtc_opportunity_test.csv')"
   ],
   "metadata": {
    "collapsed": false
   }
  },
  {
   "cell_type": "markdown",
   "source": [
    "Fit anomaly detector, pack into dict and then save for later use"
   ],
   "metadata": {
    "collapsed": false
   }
  },
  {
   "cell_type": "code",
   "execution_count": 12,
   "outputs": [
    {
     "name": "stderr",
     "output_type": "stream",
     "text": [
      "C:\\Users\\Marko\\AppData\\Local\\Temp\\ipykernel_23700\\2722834472.py:9: FutureWarning: The frame.append method is deprecated and will be removed from pandas in a future version. Use pandas.concat instead.\n",
      "  result_dataframe = training_df_encoded.append(pd.DataFrame(model.code_value.detach().numpy()))\n"
     ]
    },
    {
     "data": {
      "text/plain": "['./pretrained/model.params']"
     },
     "execution_count": 12,
     "metadata": {},
     "output_type": "execute_result"
    }
   ],
   "source": [
    "import hdbscan\n",
    "\n",
    "from joblib import dump\n",
    "\n",
    "# passing our data through autoencoder and then train clusterer on latents\n",
    "\n",
    "training_df_encoded = pd.DataFrame()\n",
    "model(x_cont=torch.Tensor(train_df['Amount'].values).view(1, -1), x_cat=torch.Tensor(train_df.drop('Amount', axis=1).values).T)\n",
    "result_dataframe = training_df_encoded.append(pd.DataFrame(model.code_value.detach().numpy()))\n",
    "\n",
    "# adding model specific parameters to serialized file\n",
    "# in our case we only have 1 feature that represented by number: amount\n",
    "clusterer = hdbscan.HDBSCAN(prediction_data=True).fit(result_dataframe)\n",
    "additional_parameters = {'params': parameters, 'list_cat': list_cat, 'num_cont_features': 1}\n",
    "\n",
    "dump(clusterer, './pretrained/anomaly_detection.model')\n",
    "dump(additional_parameters, './pretrained/model.params')"
   ],
   "metadata": {
    "collapsed": false
   }
  },
  {
   "cell_type": "code",
   "execution_count": 13,
   "outputs": [
    {
     "data": {
      "text/plain": "<AxesSubplot: ylabel='$\\\\lambda$ value'>"
     },
     "execution_count": 13,
     "metadata": {},
     "output_type": "execute_result"
    },
    {
     "data": {
      "text/plain": "<Figure size 640x480 with 2 Axes>",
      "image/png": "[encoded data removed]"
     },
     "metadata": {},
     "output_type": "display_data"
    }
   ],
   "source": [
    "clusterer.condensed_tree_.plot()"
   ],
   "metadata": {
    "collapsed": false
   }
  }
 ],
 "metadata": {
  "kernelspec": {
   "display_name": "Python 3",
   "language": "python",
   "name": "python3"
  },
  "language_info": {
   "codemirror_mode": {
    "name": "ipython",
    "version": 2
   },
   "file_extension": ".py",
   "mimetype": "text/x-python",
   "name": "python",
   "nbconvert_exporter": "python",
   "pygments_lexer": "ipython2",
   "version": "2.7.6"
  }
 },
 "nbformat": 4,
 "nbformat_minor": 0
}
