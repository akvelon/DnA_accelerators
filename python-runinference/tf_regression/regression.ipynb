{
 "cells": [
  {
   "cell_type": "code",
   "execution_count": 5,
   "outputs": [],
   "source": [
    "import tensorflow as tf\n",
    "\n",
    "from tensorflow import keras\n",
    "from tensorflow.keras import layers\n",
    "from sklearn.model_selection import train_test_split\n",
    "\n",
    "import apache_beam as beam\n",
    "import matplotlib.pyplot as plt\n",
    "import numpy as np\n",
    "import pandas as pd\n",
    "\n",
    "from apache_beam import dataframe\n",
    "from apache_beam.ml.inference.base import RunInference, PredictionResult\n",
    "from apache_beam.ml.inference.sklearn_inference import SklearnModelHandlerNumpy\n",
    "from apache_beam.ml.inference.sklearn_inference import ModelFileType\n",
    "from apache_beam.runners.interactive.interactive_runner import InteractiveRunner\n",
    "from apache_beam.ml.inference.pytorch_inference import PytorchModelHandlerTensor, _convert_to_result\n",
    "from apache_beam.ml.inference.base import KeyedModelHandler\n",
    "from autoembedder import Autoembedder\n",
    "import apache_beam.runners.interactive.interactive_beam as ib\n",
    "\n",
    "\n",
    "data = pd.read_csv('dtc_opportunity.csv')"
   ],
   "metadata": {
    "collapsed": false
   }
  },
  {
   "cell_type": "code",
   "execution_count": 9,
   "outputs": [],
   "source": [
    "data['Created Date'] = pd.to_datetime(data['Created Date'], format='%Y-%m-%dT%H:%M:%S.%f').dt.tz_localize(None)\n",
    "data['Close Date'] = pd.to_datetime(data['Close Date'], format='%m/%d/%y').dt.tz_localize(None)\n",
    "data['Opportunity Duration Days'] = data['Close Date'] - data['Created Date']\n",
    "data['Opportunity Duration Days'] = data['Opportunity Duration Days'].dt.days"
   ],
   "metadata": {
    "collapsed": false
   }
  },
  {
   "cell_type": "code",
   "execution_count": 10,
   "outputs": [
    {
     "data": {
      "text/plain": "Opportunity Name               0\nBilling State/Province       392\nAccount Type                   0\nAccount Owner                  0\nProduct Name                  97\nAmount                         0\n#                              0\nAccount Name                   0\nBilling Country                0\nClose Date                     0\nClosed                         0\nCreated Date                   0\nForecast Category              0\nIndustry                       0\nOpportunity Owner              0\nOpportunity Source             0\nOpportunity Type               0\nOwner Role                     0\nProduct Family                97\nSegment                        0\nStage                          0\nWon                            0\nOpportunity Duration Days      0\ndtype: int64"
     },
     "execution_count": 10,
     "metadata": {},
     "output_type": "execute_result"
    }
   ],
   "source": [
    "data.isna().sum()"
   ],
   "metadata": {
    "collapsed": false
   }
  },
  {
   "cell_type": "code",
   "execution_count": 11,
   "outputs": [
    {
     "data": {
      "text/plain": "                 Opportunity Name Billing State/Province Account Type  \\\n0       Opportunity for White1403                    NaN      Partner   \n1      Opportunity for Gordon1846                     ME     Customer   \n2       Opportunity for Willis238                    NaN      Partner   \n3        Opportunity for Holt1880                    NaN      Partner   \n4      Opportunity for Thomas1257                     DE      Partner   \n..                            ...                    ...          ...   \n666   Opportunity for Ramirez1837                    NaN     Customer   \n667    Opportunity for Howard1207                     CT     Customer   \n668  Opportunity for Rodriquez958                    NaN      Partner   \n669      Opportunity for Lyons494                    NaN     Customer   \n670   Opportunity for Hamilton810                     DE     Customer   \n\n       Account Owner    Product Name   Amount    #     Account Name  \\\n0    Catherine Brown  Certifications   972500  624       West49 Inc   \n1       Julie Chavez           Books  1531940  151  Martinez181 Inc   \n2       Julie Chavez    Light laptop  2250950  114      Bush454 Inc   \n3     Doroth Gardner           Books   950440  225    Ortega682 Inc   \n4      Bruce Kennedy          Cables  1499560  400   Carlson744 Inc   \n..               ...             ...      ...  ...              ...   \n666    John Williams             NaN   179964  149   Salazar150 Inc   \n667      Laura Garza             NaN   449438  323     Marsh836 Inc   \n668     Irene Kelley   Space phone 2   413100  503      Tran514 Inc   \n669    John Williams  Light tablet 2  2371900  384  Johnston241 Inc   \n670      Laura Garza          Cables   895290  310    Joseph988 Inc   \n\n    Billing Country Close Date  ...            Industry Opportunity Owner  \\\n0             Japan 2020-05-26  ...             Apparel    Doroth Gardner   \n1               USA 2020-05-28  ...       Biotechnology   Harold Campbell   \n2            Norway 2020-05-30  ...             Finance      Irene Kelley   \n3            Turkey 2020-05-30  ...  Telecommunications   Catherine Brown   \n4               USA 2020-06-02  ...             Banking       Chris Riley   \n..              ...        ...  ...                 ...               ...   \n666  United Kingdom 2022-03-04  ...           Utilities      Laura Palmer   \n667             USA 2022-03-04  ...           Insurance      Laura Palmer   \n668           Japan 2022-03-06  ...         Engineering       Irene McCoy   \n669     South Korea 2022-03-12  ...             Apparel     Kelly Frazier   \n670             USA 2022-03-24  ...              Energy    Eric Gutierrez   \n\n    Opportunity Source       Opportunity Type  Owner Role Product Family  \\\n0                   AE  New Business / Add-on  Sales AMER  Digital Media   \n1                  BDR           New Business  Sales EMEA  Digital Media   \n2            Alliances           New Business  Sales AMER        Laptops   \n3            Alliances      Existing Business    Sales WW    Accessories   \n4            Alliances  New Business / Add-on  Sales EMEA    Accessories   \n..                 ...                    ...         ...            ...   \n666          Alliances           New Business  Sales EMEA            NaN   \n667                 AE           New Business  Sales EMEA            NaN   \n668                 AE  New Business / Add-on    Sales WW         Phones   \n669          Alliances           New Business  Sales EMEA        Laptops   \n670                BDR           New Business  Sales AMER    Accessories   \n\n    Segment                   Stage    Won Opportunity Duration Days  \n0       SMB        09 - Closed Lost  False                      1884  \n1       SMB         08 - Closed Won   True                      1921  \n2       SMB         08 - Closed Won   True                      2067  \n3       SMB        09 - Closed Lost  False                      1980  \n4        MM        09 - Closed Lost  False                      2015  \n..      ...                     ...    ...                       ...  \n666     SMB      02 - Qualification  False                      2058  \n667     SMB  04 - Value Proposition  False                      2050  \n668     ENT      02 - Qualification  False                      2066  \n669      MM      02 - Qualification  False                      2035  \n670    COMM     03 - Needs Analysis  False                      2047  \n\n[671 rows x 23 columns]",
      "text/html": "<div>\n<style scoped>\n    .dataframe tbody tr th:only-of-type {\n        vertical-align: middle;\n    }\n\n    .dataframe tbody tr th {\n        vertical-align: top;\n    }\n\n    .dataframe thead th {\n        text-align: right;\n    }\n</style>\n<table border=\"1\" class=\"dataframe\">\n  <thead>\n    <tr style=\"text-align: right;\">\n      <th></th>\n      <th>Opportunity Name</th>\n      <th>Billing State/Province</th>\n      <th>Account Type</th>\n      <th>Account Owner</th>\n      <th>Product Name</th>\n      <th>Amount</th>\n      <th>#</th>\n      <th>Account Name</th>\n      <th>Billing Country</th>\n      <th>Close Date</th>\n      <th>...</th>\n      <th>Industry</th>\n      <th>Opportunity Owner</th>\n      <th>Opportunity Source</th>\n      <th>Opportunity Type</th>\n      <th>Owner Role</th>\n      <th>Product Family</th>\n      <th>Segment</th>\n      <th>Stage</th>\n      <th>Won</th>\n      <th>Opportunity Duration Days</th>\n    </tr>\n  </thead>\n  <tbody>\n    <tr>\n      <th>0</th>\n      <td>Opportunity for White1403</td>\n      <td>NaN</td>\n      <td>Partner</td>\n      <td>Catherine Brown</td>\n      <td>Certifications</td>\n      <td>972500</td>\n      <td>624</td>\n      <td>West49 Inc</td>\n      <td>Japan</td>\n      <td>2020-05-26</td>\n      <td>...</td>\n      <td>Apparel</td>\n      <td>Doroth Gardner</td>\n      <td>AE</td>\n      <td>New Business / Add-on</td>\n      <td>Sales AMER</td>\n      <td>Digital Media</td>\n      <td>SMB</td>\n      <td>09 - Closed Lost</td>\n      <td>False</td>\n      <td>1884</td>\n    </tr>\n    <tr>\n      <th>1</th>\n      <td>Opportunity for Gordon1846</td>\n      <td>ME</td>\n      <td>Customer</td>\n      <td>Julie Chavez</td>\n      <td>Books</td>\n      <td>1531940</td>\n      <td>151</td>\n      <td>Martinez181 Inc</td>\n      <td>USA</td>\n      <td>2020-05-28</td>\n      <td>...</td>\n      <td>Biotechnology</td>\n      <td>Harold Campbell</td>\n      <td>BDR</td>\n      <td>New Business</td>\n      <td>Sales EMEA</td>\n      <td>Digital Media</td>\n      <td>SMB</td>\n      <td>08 - Closed Won</td>\n      <td>True</td>\n      <td>1921</td>\n    </tr>\n    <tr>\n      <th>2</th>\n      <td>Opportunity for Willis238</td>\n      <td>NaN</td>\n      <td>Partner</td>\n      <td>Julie Chavez</td>\n      <td>Light laptop</td>\n      <td>2250950</td>\n      <td>114</td>\n      <td>Bush454 Inc</td>\n      <td>Norway</td>\n      <td>2020-05-30</td>\n      <td>...</td>\n      <td>Finance</td>\n      <td>Irene Kelley</td>\n      <td>Alliances</td>\n      <td>New Business</td>\n      <td>Sales AMER</td>\n      <td>Laptops</td>\n      <td>SMB</td>\n      <td>08 - Closed Won</td>\n      <td>True</td>\n      <td>2067</td>\n    </tr>\n    <tr>\n      <th>3</th>\n      <td>Opportunity for Holt1880</td>\n      <td>NaN</td>\n      <td>Partner</td>\n      <td>Doroth Gardner</td>\n      <td>Books</td>\n      <td>950440</td>\n      <td>225</td>\n      <td>Ortega682 Inc</td>\n      <td>Turkey</td>\n      <td>2020-05-30</td>\n      <td>...</td>\n      <td>Telecommunications</td>\n      <td>Catherine Brown</td>\n      <td>Alliances</td>\n      <td>Existing Business</td>\n      <td>Sales WW</td>\n      <td>Accessories</td>\n      <td>SMB</td>\n      <td>09 - Closed Lost</td>\n      <td>False</td>\n      <td>1980</td>\n    </tr>\n    <tr>\n      <th>4</th>\n      <td>Opportunity for Thomas1257</td>\n      <td>DE</td>\n      <td>Partner</td>\n      <td>Bruce Kennedy</td>\n      <td>Cables</td>\n      <td>1499560</td>\n      <td>400</td>\n      <td>Carlson744 Inc</td>\n      <td>USA</td>\n      <td>2020-06-02</td>\n      <td>...</td>\n      <td>Banking</td>\n      <td>Chris Riley</td>\n      <td>Alliances</td>\n      <td>New Business / Add-on</td>\n      <td>Sales EMEA</td>\n      <td>Accessories</td>\n      <td>MM</td>\n      <td>09 - Closed Lost</td>\n      <td>False</td>\n      <td>2015</td>\n    </tr>\n    <tr>\n      <th>...</th>\n      <td>...</td>\n      <td>...</td>\n      <td>...</td>\n      <td>...</td>\n      <td>...</td>\n      <td>...</td>\n      <td>...</td>\n      <td>...</td>\n      <td>...</td>\n      <td>...</td>\n      <td>...</td>\n      <td>...</td>\n      <td>...</td>\n      <td>...</td>\n      <td>...</td>\n      <td>...</td>\n      <td>...</td>\n      <td>...</td>\n      <td>...</td>\n      <td>...</td>\n      <td>...</td>\n    </tr>\n    <tr>\n      <th>666</th>\n      <td>Opportunity for Ramirez1837</td>\n      <td>NaN</td>\n      <td>Customer</td>\n      <td>John Williams</td>\n      <td>NaN</td>\n      <td>179964</td>\n      <td>149</td>\n      <td>Salazar150 Inc</td>\n      <td>United Kingdom</td>\n      <td>2022-03-04</td>\n      <td>...</td>\n      <td>Utilities</td>\n      <td>Laura Palmer</td>\n      <td>Alliances</td>\n      <td>New Business</td>\n      <td>Sales EMEA</td>\n      <td>NaN</td>\n      <td>SMB</td>\n      <td>02 - Qualification</td>\n      <td>False</td>\n      <td>2058</td>\n    </tr>\n    <tr>\n      <th>667</th>\n      <td>Opportunity for Howard1207</td>\n      <td>CT</td>\n      <td>Customer</td>\n      <td>Laura Garza</td>\n      <td>NaN</td>\n      <td>449438</td>\n      <td>323</td>\n      <td>Marsh836 Inc</td>\n      <td>USA</td>\n      <td>2022-03-04</td>\n      <td>...</td>\n      <td>Insurance</td>\n      <td>Laura Palmer</td>\n      <td>AE</td>\n      <td>New Business</td>\n      <td>Sales EMEA</td>\n      <td>NaN</td>\n      <td>SMB</td>\n      <td>04 - Value Proposition</td>\n      <td>False</td>\n      <td>2050</td>\n    </tr>\n    <tr>\n      <th>668</th>\n      <td>Opportunity for Rodriquez958</td>\n      <td>NaN</td>\n      <td>Partner</td>\n      <td>Irene Kelley</td>\n      <td>Space phone 2</td>\n      <td>413100</td>\n      <td>503</td>\n      <td>Tran514 Inc</td>\n      <td>Japan</td>\n      <td>2022-03-06</td>\n      <td>...</td>\n      <td>Engineering</td>\n      <td>Irene McCoy</td>\n      <td>AE</td>\n      <td>New Business / Add-on</td>\n      <td>Sales WW</td>\n      <td>Phones</td>\n      <td>ENT</td>\n      <td>02 - Qualification</td>\n      <td>False</td>\n      <td>2066</td>\n    </tr>\n    <tr>\n      <th>669</th>\n      <td>Opportunity for Lyons494</td>\n      <td>NaN</td>\n      <td>Customer</td>\n      <td>John Williams</td>\n      <td>Light tablet 2</td>\n      <td>2371900</td>\n      <td>384</td>\n      <td>Johnston241 Inc</td>\n      <td>South Korea</td>\n      <td>2022-03-12</td>\n      <td>...</td>\n      <td>Apparel</td>\n      <td>Kelly Frazier</td>\n      <td>Alliances</td>\n      <td>New Business</td>\n      <td>Sales EMEA</td>\n      <td>Laptops</td>\n      <td>MM</td>\n      <td>02 - Qualification</td>\n      <td>False</td>\n      <td>2035</td>\n    </tr>\n    <tr>\n      <th>670</th>\n      <td>Opportunity for Hamilton810</td>\n      <td>DE</td>\n      <td>Customer</td>\n      <td>Laura Garza</td>\n      <td>Cables</td>\n      <td>895290</td>\n      <td>310</td>\n      <td>Joseph988 Inc</td>\n      <td>USA</td>\n      <td>2022-03-24</td>\n      <td>...</td>\n      <td>Energy</td>\n      <td>Eric Gutierrez</td>\n      <td>BDR</td>\n      <td>New Business</td>\n      <td>Sales AMER</td>\n      <td>Accessories</td>\n      <td>COMM</td>\n      <td>03 - Needs Analysis</td>\n      <td>False</td>\n      <td>2047</td>\n    </tr>\n  </tbody>\n</table>\n<p>671 rows × 23 columns</p>\n</div>"
     },
     "execution_count": 11,
     "metadata": {},
     "output_type": "execute_result"
    }
   ],
   "source": [
    "data"
   ],
   "metadata": {
    "collapsed": false
   }
  },
  {
   "cell_type": "code",
   "execution_count": 12,
   "outputs": [],
   "source": [
    "data = data.dropna()"
   ],
   "metadata": {
    "collapsed": false
   }
  },
  {
   "cell_type": "code",
   "execution_count": 13,
   "outputs": [],
   "source": [
    "data.to_csv('tensorflow_regression_opportunity.csv', index=False)"
   ],
   "metadata": {
    "collapsed": false
   }
  },
  {
   "cell_type": "code",
   "execution_count": 14,
   "outputs": [],
   "source": [
    "def get_one_hot_encoding(df, col) -> pd.DataFrame:\n",
    "    beam_df_categorical = df[col]\n",
    "    with dataframe.allow_non_parallel_operations():\n",
    "        unique_classes = pd.CategoricalDtype(ib.collect(beam_df_categorical.unique(as_series=True)))\n",
    "    beam_df_categorical = beam_df_categorical.astype(unique_classes).str.get_dummies()\n",
    "    beam_df_categorical = beam_df_categorical.add_prefix(f'{col}___')\n",
    "\n",
    "    return beam_df_categorical"
   ],
   "metadata": {
    "collapsed": false
   }
  },
  {
   "cell_type": "code",
   "execution_count": 15,
   "outputs": [],
   "source": [
    "TARGET_COLUMN = {'Opportunity_Duration_Days'}"
   ],
   "metadata": {
    "collapsed": false
   }
  },
  {
   "cell_type": "code",
   "execution_count": 23,
   "outputs": [
    {
     "name": "stdout",
     "output_type": "stream",
     "text": [
      "{'Amount'}\n",
      "['Billing_Country', 'Account_Owner', 'Product_Family', 'Segment', 'Opportunity_Owner', 'Opportunity_Source', 'Forecast_Category', 'Account_Type', 'Stage', 'Opportunity_Type', 'Owner_Role', 'Industry']\n"
     ]
    },
    {
     "name": "stderr",
     "output_type": "stream",
     "text": [
      "C:\\Users\\Marko\\Desktop\\Projects\\DnA_accelerators\\python-runinference\\venv\\lib\\site-packages\\apache_beam\\dataframe\\frame_base.py:145: RuntimeWarning: invalid value encountered in longlong_scalars\n",
      "  lambda left, right: getattr(left, op)(right), name=op, args=[other])\n"
     ]
    },
    {
     "data": {
      "text/plain": "<IPython.core.display.HTML object>",
      "text/html": "\n            <link rel=\"stylesheet\" href=\"https://stackpath.bootstrapcdn.com/bootstrap/4.4.1/css/bootstrap.min.css\" integrity=\"sha384-Vkoo8x4CGsO3+Hhxv8T/Q5PaXtkKtu6ug5TOeNV6gBiFeWPGFN9MuhOf23Q9Ifjh\" crossorigin=\"anonymous\">\n            <div id=\"progress_indicator_26dcc0ac2e589b818be49215574db124\">\n              <div class=\"spinner-border text-info\" role=\"status\"></div>\n              <span class=\"text-info\">Processing... collect</span>\n            </div>\n            "
     },
     "metadata": {},
     "output_type": "display_data"
    },
    {
     "data": {
      "application/javascript": "\n        if (typeof window.interactive_beam_jquery == 'undefined') {\n          var jqueryScript = document.createElement('script');\n          jqueryScript.src = 'https://code.jquery.com/jquery-3.4.1.slim.min.js';\n          jqueryScript.type = 'text/javascript';\n          jqueryScript.onload = function() {\n            var datatableScript = document.createElement('script');\n            datatableScript.src = 'https://cdn.datatables.net/1.10.20/js/jquery.dataTables.min.js';\n            datatableScript.type = 'text/javascript';\n            datatableScript.onload = function() {\n              window.interactive_beam_jquery = jQuery.noConflict(true);\n              window.interactive_beam_jquery(document).ready(function($){\n                \n            $(\"#progress_indicator_26dcc0ac2e589b818be49215574db124\").remove();\n              });\n            }\n            document.head.appendChild(datatableScript);\n          };\n          document.head.appendChild(jqueryScript);\n        } else {\n          window.interactive_beam_jquery(document).ready(function($){\n            \n            $(\"#progress_indicator_26dcc0ac2e589b818be49215574db124\").remove();\n          });\n        }"
     },
     "metadata": {},
     "output_type": "display_data"
    },
    {
     "data": {
      "text/plain": "<IPython.core.display.HTML object>",
      "text/html": "\n            <link rel=\"stylesheet\" href=\"https://stackpath.bootstrapcdn.com/bootstrap/4.4.1/css/bootstrap.min.css\" integrity=\"sha384-Vkoo8x4CGsO3+Hhxv8T/Q5PaXtkKtu6ug5TOeNV6gBiFeWPGFN9MuhOf23Q9Ifjh\" crossorigin=\"anonymous\">\n            <div id=\"progress_indicator_ac0026f631d2c474caa8dd20b7345af1\">\n              <div class=\"spinner-border text-info\" role=\"status\"></div>\n              <span class=\"text-info\">Processing... collect</span>\n            </div>\n            "
     },
     "metadata": {},
     "output_type": "display_data"
    },
    {
     "data": {
      "application/javascript": "\n        if (typeof window.interactive_beam_jquery == 'undefined') {\n          var jqueryScript = document.createElement('script');\n          jqueryScript.src = 'https://code.jquery.com/jquery-3.4.1.slim.min.js';\n          jqueryScript.type = 'text/javascript';\n          jqueryScript.onload = function() {\n            var datatableScript = document.createElement('script');\n            datatableScript.src = 'https://cdn.datatables.net/1.10.20/js/jquery.dataTables.min.js';\n            datatableScript.type = 'text/javascript';\n            datatableScript.onload = function() {\n              window.interactive_beam_jquery = jQuery.noConflict(true);\n              window.interactive_beam_jquery(document).ready(function($){\n                \n            $(\"#progress_indicator_ac0026f631d2c474caa8dd20b7345af1\").remove();\n              });\n            }\n            document.head.appendChild(datatableScript);\n          };\n          document.head.appendChild(jqueryScript);\n        } else {\n          window.interactive_beam_jquery(document).ready(function($){\n            \n            $(\"#progress_indicator_ac0026f631d2c474caa8dd20b7345af1\").remove();\n          });\n        }"
     },
     "metadata": {},
     "output_type": "display_data"
    },
    {
     "data": {
      "text/plain": "<IPython.core.display.HTML object>",
      "text/html": "\n            <link rel=\"stylesheet\" href=\"https://stackpath.bootstrapcdn.com/bootstrap/4.4.1/css/bootstrap.min.css\" integrity=\"sha384-Vkoo8x4CGsO3+Hhxv8T/Q5PaXtkKtu6ug5TOeNV6gBiFeWPGFN9MuhOf23Q9Ifjh\" crossorigin=\"anonymous\">\n            <div id=\"progress_indicator_2aca71a33fda87096e222413dcb4779b\">\n              <div class=\"spinner-border text-info\" role=\"status\"></div>\n              <span class=\"text-info\">Processing... collect</span>\n            </div>\n            "
     },
     "metadata": {},
     "output_type": "display_data"
    },
    {
     "data": {
      "application/javascript": "\n        if (typeof window.interactive_beam_jquery == 'undefined') {\n          var jqueryScript = document.createElement('script');\n          jqueryScript.src = 'https://code.jquery.com/jquery-3.4.1.slim.min.js';\n          jqueryScript.type = 'text/javascript';\n          jqueryScript.onload = function() {\n            var datatableScript = document.createElement('script');\n            datatableScript.src = 'https://cdn.datatables.net/1.10.20/js/jquery.dataTables.min.js';\n            datatableScript.type = 'text/javascript';\n            datatableScript.onload = function() {\n              window.interactive_beam_jquery = jQuery.noConflict(true);\n              window.interactive_beam_jquery(document).ready(function($){\n                \n            $(\"#progress_indicator_2aca71a33fda87096e222413dcb4779b\").remove();\n              });\n            }\n            document.head.appendChild(datatableScript);\n          };\n          document.head.appendChild(jqueryScript);\n        } else {\n          window.interactive_beam_jquery(document).ready(function($){\n            \n            $(\"#progress_indicator_2aca71a33fda87096e222413dcb4779b\").remove();\n          });\n        }"
     },
     "metadata": {},
     "output_type": "display_data"
    },
    {
     "data": {
      "text/plain": "<IPython.core.display.HTML object>",
      "text/html": "\n            <link rel=\"stylesheet\" href=\"https://stackpath.bootstrapcdn.com/bootstrap/4.4.1/css/bootstrap.min.css\" integrity=\"sha384-Vkoo8x4CGsO3+Hhxv8T/Q5PaXtkKtu6ug5TOeNV6gBiFeWPGFN9MuhOf23Q9Ifjh\" crossorigin=\"anonymous\">\n            <div id=\"progress_indicator_de8e48f312fadfc9ea0b690095bcab73\">\n              <div class=\"spinner-border text-info\" role=\"status\"></div>\n              <span class=\"text-info\">Processing... collect</span>\n            </div>\n            "
     },
     "metadata": {},
     "output_type": "display_data"
    },
    {
     "data": {
      "application/javascript": "\n        if (typeof window.interactive_beam_jquery == 'undefined') {\n          var jqueryScript = document.createElement('script');\n          jqueryScript.src = 'https://code.jquery.com/jquery-3.4.1.slim.min.js';\n          jqueryScript.type = 'text/javascript';\n          jqueryScript.onload = function() {\n            var datatableScript = document.createElement('script');\n            datatableScript.src = 'https://cdn.datatables.net/1.10.20/js/jquery.dataTables.min.js';\n            datatableScript.type = 'text/javascript';\n            datatableScript.onload = function() {\n              window.interactive_beam_jquery = jQuery.noConflict(true);\n              window.interactive_beam_jquery(document).ready(function($){\n                \n            $(\"#progress_indicator_de8e48f312fadfc9ea0b690095bcab73\").remove();\n              });\n            }\n            document.head.appendChild(datatableScript);\n          };\n          document.head.appendChild(jqueryScript);\n        } else {\n          window.interactive_beam_jquery(document).ready(function($){\n            \n            $(\"#progress_indicator_de8e48f312fadfc9ea0b690095bcab73\").remove();\n          });\n        }"
     },
     "metadata": {},
     "output_type": "display_data"
    },
    {
     "data": {
      "text/plain": "<IPython.core.display.HTML object>",
      "text/html": "\n            <link rel=\"stylesheet\" href=\"https://stackpath.bootstrapcdn.com/bootstrap/4.4.1/css/bootstrap.min.css\" integrity=\"sha384-Vkoo8x4CGsO3+Hhxv8T/Q5PaXtkKtu6ug5TOeNV6gBiFeWPGFN9MuhOf23Q9Ifjh\" crossorigin=\"anonymous\">\n            <div id=\"progress_indicator_fbd462d2e9548ada54eea921f78f385c\">\n              <div class=\"spinner-border text-info\" role=\"status\"></div>\n              <span class=\"text-info\">Processing... collect</span>\n            </div>\n            "
     },
     "metadata": {},
     "output_type": "display_data"
    },
    {
     "data": {
      "application/javascript": "\n        if (typeof window.interactive_beam_jquery == 'undefined') {\n          var jqueryScript = document.createElement('script');\n          jqueryScript.src = 'https://code.jquery.com/jquery-3.4.1.slim.min.js';\n          jqueryScript.type = 'text/javascript';\n          jqueryScript.onload = function() {\n            var datatableScript = document.createElement('script');\n            datatableScript.src = 'https://cdn.datatables.net/1.10.20/js/jquery.dataTables.min.js';\n            datatableScript.type = 'text/javascript';\n            datatableScript.onload = function() {\n              window.interactive_beam_jquery = jQuery.noConflict(true);\n              window.interactive_beam_jquery(document).ready(function($){\n                \n            $(\"#progress_indicator_fbd462d2e9548ada54eea921f78f385c\").remove();\n              });\n            }\n            document.head.appendChild(datatableScript);\n          };\n          document.head.appendChild(jqueryScript);\n        } else {\n          window.interactive_beam_jquery(document).ready(function($){\n            \n            $(\"#progress_indicator_fbd462d2e9548ada54eea921f78f385c\").remove();\n          });\n        }"
     },
     "metadata": {},
     "output_type": "display_data"
    },
    {
     "data": {
      "text/plain": "<IPython.core.display.HTML object>",
      "text/html": "\n            <link rel=\"stylesheet\" href=\"https://stackpath.bootstrapcdn.com/bootstrap/4.4.1/css/bootstrap.min.css\" integrity=\"sha384-Vkoo8x4CGsO3+Hhxv8T/Q5PaXtkKtu6ug5TOeNV6gBiFeWPGFN9MuhOf23Q9Ifjh\" crossorigin=\"anonymous\">\n            <div id=\"progress_indicator_70beaadbf51321de8a20f42a659a8285\">\n              <div class=\"spinner-border text-info\" role=\"status\"></div>\n              <span class=\"text-info\">Processing... collect</span>\n            </div>\n            "
     },
     "metadata": {},
     "output_type": "display_data"
    },
    {
     "data": {
      "application/javascript": "\n        if (typeof window.interactive_beam_jquery == 'undefined') {\n          var jqueryScript = document.createElement('script');\n          jqueryScript.src = 'https://code.jquery.com/jquery-3.4.1.slim.min.js';\n          jqueryScript.type = 'text/javascript';\n          jqueryScript.onload = function() {\n            var datatableScript = document.createElement('script');\n            datatableScript.src = 'https://cdn.datatables.net/1.10.20/js/jquery.dataTables.min.js';\n            datatableScript.type = 'text/javascript';\n            datatableScript.onload = function() {\n              window.interactive_beam_jquery = jQuery.noConflict(true);\n              window.interactive_beam_jquery(document).ready(function($){\n                \n            $(\"#progress_indicator_70beaadbf51321de8a20f42a659a8285\").remove();\n              });\n            }\n            document.head.appendChild(datatableScript);\n          };\n          document.head.appendChild(jqueryScript);\n        } else {\n          window.interactive_beam_jquery(document).ready(function($){\n            \n            $(\"#progress_indicator_70beaadbf51321de8a20f42a659a8285\").remove();\n          });\n        }"
     },
     "metadata": {},
     "output_type": "display_data"
    },
    {
     "data": {
      "text/plain": "<IPython.core.display.HTML object>",
      "text/html": "\n            <link rel=\"stylesheet\" href=\"https://stackpath.bootstrapcdn.com/bootstrap/4.4.1/css/bootstrap.min.css\" integrity=\"sha384-Vkoo8x4CGsO3+Hhxv8T/Q5PaXtkKtu6ug5TOeNV6gBiFeWPGFN9MuhOf23Q9Ifjh\" crossorigin=\"anonymous\">\n            <div id=\"progress_indicator_c8eb538ed802652502afa4ef3dce80b8\">\n              <div class=\"spinner-border text-info\" role=\"status\"></div>\n              <span class=\"text-info\">Processing... collect</span>\n            </div>\n            "
     },
     "metadata": {},
     "output_type": "display_data"
    },
    {
     "data": {
      "application/javascript": "\n        if (typeof window.interactive_beam_jquery == 'undefined') {\n          var jqueryScript = document.createElement('script');\n          jqueryScript.src = 'https://code.jquery.com/jquery-3.4.1.slim.min.js';\n          jqueryScript.type = 'text/javascript';\n          jqueryScript.onload = function() {\n            var datatableScript = document.createElement('script');\n            datatableScript.src = 'https://cdn.datatables.net/1.10.20/js/jquery.dataTables.min.js';\n            datatableScript.type = 'text/javascript';\n            datatableScript.onload = function() {\n              window.interactive_beam_jquery = jQuery.noConflict(true);\n              window.interactive_beam_jquery(document).ready(function($){\n                \n            $(\"#progress_indicator_c8eb538ed802652502afa4ef3dce80b8\").remove();\n              });\n            }\n            document.head.appendChild(datatableScript);\n          };\n          document.head.appendChild(jqueryScript);\n        } else {\n          window.interactive_beam_jquery(document).ready(function($){\n            \n            $(\"#progress_indicator_c8eb538ed802652502afa4ef3dce80b8\").remove();\n          });\n        }"
     },
     "metadata": {},
     "output_type": "display_data"
    },
    {
     "data": {
      "text/plain": "<IPython.core.display.HTML object>",
      "text/html": "\n            <link rel=\"stylesheet\" href=\"https://stackpath.bootstrapcdn.com/bootstrap/4.4.1/css/bootstrap.min.css\" integrity=\"sha384-Vkoo8x4CGsO3+Hhxv8T/Q5PaXtkKtu6ug5TOeNV6gBiFeWPGFN9MuhOf23Q9Ifjh\" crossorigin=\"anonymous\">\n            <div id=\"progress_indicator_dd0143b8a0d86f1ac941914130ffe6e1\">\n              <div class=\"spinner-border text-info\" role=\"status\"></div>\n              <span class=\"text-info\">Processing... collect</span>\n            </div>\n            "
     },
     "metadata": {},
     "output_type": "display_data"
    },
    {
     "data": {
      "application/javascript": "\n        if (typeof window.interactive_beam_jquery == 'undefined') {\n          var jqueryScript = document.createElement('script');\n          jqueryScript.src = 'https://code.jquery.com/jquery-3.4.1.slim.min.js';\n          jqueryScript.type = 'text/javascript';\n          jqueryScript.onload = function() {\n            var datatableScript = document.createElement('script');\n            datatableScript.src = 'https://cdn.datatables.net/1.10.20/js/jquery.dataTables.min.js';\n            datatableScript.type = 'text/javascript';\n            datatableScript.onload = function() {\n              window.interactive_beam_jquery = jQuery.noConflict(true);\n              window.interactive_beam_jquery(document).ready(function($){\n                \n            $(\"#progress_indicator_dd0143b8a0d86f1ac941914130ffe6e1\").remove();\n              });\n            }\n            document.head.appendChild(datatableScript);\n          };\n          document.head.appendChild(jqueryScript);\n        } else {\n          window.interactive_beam_jquery(document).ready(function($){\n            \n            $(\"#progress_indicator_dd0143b8a0d86f1ac941914130ffe6e1\").remove();\n          });\n        }"
     },
     "metadata": {},
     "output_type": "display_data"
    },
    {
     "data": {
      "text/plain": "<IPython.core.display.HTML object>",
      "text/html": "\n            <link rel=\"stylesheet\" href=\"https://stackpath.bootstrapcdn.com/bootstrap/4.4.1/css/bootstrap.min.css\" integrity=\"sha384-Vkoo8x4CGsO3+Hhxv8T/Q5PaXtkKtu6ug5TOeNV6gBiFeWPGFN9MuhOf23Q9Ifjh\" crossorigin=\"anonymous\">\n            <div id=\"progress_indicator_3e490965d9abfa494abe2d1a6d46eebd\">\n              <div class=\"spinner-border text-info\" role=\"status\"></div>\n              <span class=\"text-info\">Processing... collect</span>\n            </div>\n            "
     },
     "metadata": {},
     "output_type": "display_data"
    },
    {
     "data": {
      "application/javascript": "\n        if (typeof window.interactive_beam_jquery == 'undefined') {\n          var jqueryScript = document.createElement('script');\n          jqueryScript.src = 'https://code.jquery.com/jquery-3.4.1.slim.min.js';\n          jqueryScript.type = 'text/javascript';\n          jqueryScript.onload = function() {\n            var datatableScript = document.createElement('script');\n            datatableScript.src = 'https://cdn.datatables.net/1.10.20/js/jquery.dataTables.min.js';\n            datatableScript.type = 'text/javascript';\n            datatableScript.onload = function() {\n              window.interactive_beam_jquery = jQuery.noConflict(true);\n              window.interactive_beam_jquery(document).ready(function($){\n                \n            $(\"#progress_indicator_3e490965d9abfa494abe2d1a6d46eebd\").remove();\n              });\n            }\n            document.head.appendChild(datatableScript);\n          };\n          document.head.appendChild(jqueryScript);\n        } else {\n          window.interactive_beam_jquery(document).ready(function($){\n            \n            $(\"#progress_indicator_3e490965d9abfa494abe2d1a6d46eebd\").remove();\n          });\n        }"
     },
     "metadata": {},
     "output_type": "display_data"
    },
    {
     "data": {
      "text/plain": "<IPython.core.display.HTML object>",
      "text/html": "\n            <link rel=\"stylesheet\" href=\"https://stackpath.bootstrapcdn.com/bootstrap/4.4.1/css/bootstrap.min.css\" integrity=\"sha384-Vkoo8x4CGsO3+Hhxv8T/Q5PaXtkKtu6ug5TOeNV6gBiFeWPGFN9MuhOf23Q9Ifjh\" crossorigin=\"anonymous\">\n            <div id=\"progress_indicator_4efd1609e8567fe0664974823b853fd4\">\n              <div class=\"spinner-border text-info\" role=\"status\"></div>\n              <span class=\"text-info\">Processing... collect</span>\n            </div>\n            "
     },
     "metadata": {},
     "output_type": "display_data"
    },
    {
     "data": {
      "application/javascript": "\n        if (typeof window.interactive_beam_jquery == 'undefined') {\n          var jqueryScript = document.createElement('script');\n          jqueryScript.src = 'https://code.jquery.com/jquery-3.4.1.slim.min.js';\n          jqueryScript.type = 'text/javascript';\n          jqueryScript.onload = function() {\n            var datatableScript = document.createElement('script');\n            datatableScript.src = 'https://cdn.datatables.net/1.10.20/js/jquery.dataTables.min.js';\n            datatableScript.type = 'text/javascript';\n            datatableScript.onload = function() {\n              window.interactive_beam_jquery = jQuery.noConflict(true);\n              window.interactive_beam_jquery(document).ready(function($){\n                \n            $(\"#progress_indicator_4efd1609e8567fe0664974823b853fd4\").remove();\n              });\n            }\n            document.head.appendChild(datatableScript);\n          };\n          document.head.appendChild(jqueryScript);\n        } else {\n          window.interactive_beam_jquery(document).ready(function($){\n            \n            $(\"#progress_indicator_4efd1609e8567fe0664974823b853fd4\").remove();\n          });\n        }"
     },
     "metadata": {},
     "output_type": "display_data"
    },
    {
     "data": {
      "text/plain": "<IPython.core.display.HTML object>",
      "text/html": "\n            <link rel=\"stylesheet\" href=\"https://stackpath.bootstrapcdn.com/bootstrap/4.4.1/css/bootstrap.min.css\" integrity=\"sha384-Vkoo8x4CGsO3+Hhxv8T/Q5PaXtkKtu6ug5TOeNV6gBiFeWPGFN9MuhOf23Q9Ifjh\" crossorigin=\"anonymous\">\n            <div id=\"progress_indicator_5f15150c77cfac361b5f085fd43d66f5\">\n              <div class=\"spinner-border text-info\" role=\"status\"></div>\n              <span class=\"text-info\">Processing... collect</span>\n            </div>\n            "
     },
     "metadata": {},
     "output_type": "display_data"
    },
    {
     "data": {
      "application/javascript": "\n        if (typeof window.interactive_beam_jquery == 'undefined') {\n          var jqueryScript = document.createElement('script');\n          jqueryScript.src = 'https://code.jquery.com/jquery-3.4.1.slim.min.js';\n          jqueryScript.type = 'text/javascript';\n          jqueryScript.onload = function() {\n            var datatableScript = document.createElement('script');\n            datatableScript.src = 'https://cdn.datatables.net/1.10.20/js/jquery.dataTables.min.js';\n            datatableScript.type = 'text/javascript';\n            datatableScript.onload = function() {\n              window.interactive_beam_jquery = jQuery.noConflict(true);\n              window.interactive_beam_jquery(document).ready(function($){\n                \n            $(\"#progress_indicator_5f15150c77cfac361b5f085fd43d66f5\").remove();\n              });\n            }\n            document.head.appendChild(datatableScript);\n          };\n          document.head.appendChild(jqueryScript);\n        } else {\n          window.interactive_beam_jquery(document).ready(function($){\n            \n            $(\"#progress_indicator_5f15150c77cfac361b5f085fd43d66f5\").remove();\n          });\n        }"
     },
     "metadata": {},
     "output_type": "display_data"
    },
    {
     "data": {
      "text/plain": "<IPython.core.display.HTML object>",
      "text/html": "\n            <link rel=\"stylesheet\" href=\"https://stackpath.bootstrapcdn.com/bootstrap/4.4.1/css/bootstrap.min.css\" integrity=\"sha384-Vkoo8x4CGsO3+Hhxv8T/Q5PaXtkKtu6ug5TOeNV6gBiFeWPGFN9MuhOf23Q9Ifjh\" crossorigin=\"anonymous\">\n            <div id=\"progress_indicator_236e5c76328b3b41dad980a4d51b32d2\">\n              <div class=\"spinner-border text-info\" role=\"status\"></div>\n              <span class=\"text-info\">Processing... collect</span>\n            </div>\n            "
     },
     "metadata": {},
     "output_type": "display_data"
    },
    {
     "data": {
      "application/javascript": "\n        if (typeof window.interactive_beam_jquery == 'undefined') {\n          var jqueryScript = document.createElement('script');\n          jqueryScript.src = 'https://code.jquery.com/jquery-3.4.1.slim.min.js';\n          jqueryScript.type = 'text/javascript';\n          jqueryScript.onload = function() {\n            var datatableScript = document.createElement('script');\n            datatableScript.src = 'https://cdn.datatables.net/1.10.20/js/jquery.dataTables.min.js';\n            datatableScript.type = 'text/javascript';\n            datatableScript.onload = function() {\n              window.interactive_beam_jquery = jQuery.noConflict(true);\n              window.interactive_beam_jquery(document).ready(function($){\n                \n            $(\"#progress_indicator_236e5c76328b3b41dad980a4d51b32d2\").remove();\n              });\n            }\n            document.head.appendChild(datatableScript);\n          };\n          document.head.appendChild(jqueryScript);\n        } else {\n          window.interactive_beam_jquery(document).ready(function($){\n            \n            $(\"#progress_indicator_236e5c76328b3b41dad980a4d51b32d2\").remove();\n          });\n        }"
     },
     "metadata": {},
     "output_type": "display_data"
    },
    {
     "data": {
      "text/plain": "<IPython.core.display.HTML object>",
      "text/html": "\n            <link rel=\"stylesheet\" href=\"https://stackpath.bootstrapcdn.com/bootstrap/4.4.1/css/bootstrap.min.css\" integrity=\"sha384-Vkoo8x4CGsO3+Hhxv8T/Q5PaXtkKtu6ug5TOeNV6gBiFeWPGFN9MuhOf23Q9Ifjh\" crossorigin=\"anonymous\">\n            <div id=\"progress_indicator_2419b770a79f5198bd50fc0731143499\">\n              <div class=\"spinner-border text-info\" role=\"status\"></div>\n              <span class=\"text-info\">Processing... collect</span>\n            </div>\n            "
     },
     "metadata": {},
     "output_type": "display_data"
    },
    {
     "data": {
      "application/javascript": "\n        if (typeof window.interactive_beam_jquery == 'undefined') {\n          var jqueryScript = document.createElement('script');\n          jqueryScript.src = 'https://code.jquery.com/jquery-3.4.1.slim.min.js';\n          jqueryScript.type = 'text/javascript';\n          jqueryScript.onload = function() {\n            var datatableScript = document.createElement('script');\n            datatableScript.src = 'https://cdn.datatables.net/1.10.20/js/jquery.dataTables.min.js';\n            datatableScript.type = 'text/javascript';\n            datatableScript.onload = function() {\n              window.interactive_beam_jquery = jQuery.noConflict(true);\n              window.interactive_beam_jquery(document).ready(function($){\n                \n            $(\"#progress_indicator_2419b770a79f5198bd50fc0731143499\").remove();\n              });\n            }\n            document.head.appendChild(datatableScript);\n          };\n          document.head.appendChild(jqueryScript);\n        } else {\n          window.interactive_beam_jquery(document).ready(function($){\n            \n            $(\"#progress_indicator_2419b770a79f5198bd50fc0731143499\").remove();\n          });\n        }"
     },
     "metadata": {},
     "output_type": "display_data"
    }
   ],
   "source": [
    "with beam.Pipeline(InteractiveRunner()) as p:\n",
    "    input_data = p | \"Read CSV\" >> beam.dataframe.io.read_csv('tensorflow_regression_opportunity.csv')\n",
    "    # For now dropping dates\n",
    "    input_data = input_data.drop(['Billing State/Province',\n",
    "                                  'Created Date',\n",
    "                                  'Close Date',\n",
    "                                  'Account Name',\n",
    "                                  'Product Name',\n",
    "                                  'Opportunity Name'], axis=1)\n",
    "    input_data = input_data.drop('#', axis=1)\n",
    "    input_data = input_data.replace('-', 'HYPHEN', regex=True)\n",
    "    input_data = input_data.replace('/', 'SLASH', regex=True)\n",
    "    input_data = input_data.replace(' ', 'SPACE', regex=True)\n",
    "    input_data = input_data.rename(columns={x: x.replace(' ', '_') for x in input_data.columns})\n",
    "\n",
    "    with dataframe.allow_non_parallel_operations():\n",
    "        input_data = input_data.dropna()\n",
    "\n",
    "    numerical_cols = set(input_data.select_dtypes(include=np.number).columns.tolist()) - TARGET_COLUMN\n",
    "    bool_cols = input_data.select_dtypes(include='bool').columns.tolist()\n",
    "    print(numerical_cols)\n",
    "\n",
    "    categorical_cols = list(set(input_data.columns) - set(numerical_cols) - set(bool_cols) - TARGET_COLUMN)\n",
    "    print(categorical_cols)\n",
    "\n",
    "    input_data_numericals = input_data.filter(items=numerical_cols)\n",
    "    input_data_numericals = (input_data_numericals - input_data_numericals.mean())/input_data_numericals.std()\n",
    "\n",
    "    processed_cat_columns = []\n",
    "\n",
    "    for categorical_col in categorical_cols:\n",
    "        input_data_categorical = get_one_hot_encoding(df=input_data, col=categorical_col)\n",
    "        processed_cat_columns.extend(list(input_data_categorical.columns))\n",
    "        input_data_numericals = input_data_numericals.merge(input_data_categorical, left_index=True, right_index=True)\n",
    "\n",
    "    for bool_col in bool_cols:\n",
    "        input_data_numericals = input_data_numericals.merge(input_data[bool_col].astype(int), left_index=True, right_index=True)\n",
    "\n",
    "    input_data_numericals = input_data_numericals.merge(input_data[list(TARGET_COLUMN)].astype(int), left_index=True, right_index=True)\n",
    "\n",
    "aa = ib.collect(input_data_numericals)\n",
    "train = aa.sample(frac=0.8, random_state=42)\n",
    "test = aa.drop(train.index)\n",
    "train.to_csv('tensorflow_output_train_final.csv', index=False)\n",
    "test.to_csv('tensorflow_output_test_final.csv', index=False)"
   ],
   "metadata": {
    "collapsed": false
   }
  },
  {
   "cell_type": "code",
   "execution_count": 26,
   "outputs": [],
   "source": [
    "train_df = pd.read_csv(\"tensorflow_output_train_final.csv\")\n",
    "test_df = pd.read_csv(\"tensorflow_output_test_final.csv\")"
   ],
   "metadata": {
    "collapsed": false
   }
  },
  {
   "cell_type": "code",
   "execution_count": 27,
   "outputs": [
    {
     "data": {
      "text/plain": "       Amount  Billing_Country___Canada  Billing_Country___Morocco  \\\n0   -0.805116                         0                          0   \n1   -0.311166                         0                          0   \n2   -0.620518                         1                          0   \n3   -0.608800                         0                          0   \n4   -0.934749                         0                          0   \n..        ...                       ...                        ...   \n184 -0.874416                         0                          0   \n185 -0.412580                         1                          0   \n186 -0.848785                         0                          0   \n187 -0.962945                         0                          0   \n188 -0.975110                         0                          0   \n\n     Billing_Country___SouthSPACEAfrica  Billing_Country___USA  \\\n0                                     0                      1   \n1                                     0                      1   \n2                                     0                      0   \n3                                     0                      1   \n4                                     0                      1   \n..                                  ...                    ...   \n184                                   0                      1   \n185                                   0                      0   \n186                                   0                      1   \n187                                   0                      1   \n188                                   1                      0   \n\n     Billing_Country___nan  Account_Owner___BruceSPACEKennedy  \\\n0                        0                                  0   \n1                        0                                  0   \n2                        0                                  0   \n3                        0                                  0   \n4                        0                                  0   \n..                     ...                                ...   \n184                      0                                  0   \n185                      0                                  0   \n186                      0                                  0   \n187                      0                                  0   \n188                      0                                  0   \n\n     Account_Owner___CatherineSPACEBrown  Account_Owner___ChrisSPACERiley  \\\n0                                      0                                0   \n1                                      0                                0   \n2                                      0                                0   \n3                                      0                                1   \n4                                      0                                0   \n..                                   ...                              ...   \n184                                    1                                0   \n185                                    0                                0   \n186                                    0                                0   \n187                                    0                                0   \n188                                    0                                0   \n\n     Account_Owner___DennisSPACEHoward  ...  Industry___Media  \\\n0                                    0  ...                 0   \n1                                    0  ...                 0   \n2                                    0  ...                 0   \n3                                    0  ...                 0   \n4                                    0  ...                 0   \n..                                 ...  ...               ...   \n184                                  0  ...                 0   \n185                                  1  ...                 0   \n186                                  0  ...                 0   \n187                                  0  ...                 0   \n188                                  0  ...                 0   \n\n     Industry___Retail  Industry___Technology  Industry___Telecommunications  \\\n0                    0                      0                              0   \n1                    0                      0                              0   \n2                    0                      0                              0   \n3                    0                      0                              1   \n4                    0                      0                              0   \n..                 ...                    ...                            ...   \n184                  0                      0                              0   \n185                  0                      0                              0   \n186                  0                      0                              0   \n187                  0                      1                              0   \n188                  0                      0                              0   \n\n     Industry___Transportation  Industry___Utilities  Industry___nan  Closed  \\\n0                            0                     0               0       1   \n1                            0                     0               0       1   \n2                            0                     0               0       1   \n3                            0                     0               0       1   \n4                            0                     0               0       0   \n..                         ...                   ...             ...     ...   \n184                          0                     0               0       0   \n185                          0                     0               0       0   \n186                          0                     0               0       1   \n187                          0                     0               0       1   \n188                          0                     0               0       1   \n\n     Won  Opportunity_Duration_Days  \n0      1                       1880  \n1      1                       1978  \n2      1                       2026  \n3      1                       1904  \n4      0                       2056  \n..   ...                        ...  \n184    0                       2040  \n185    0                       1969  \n186    1                       1879  \n187    1                       1881  \n188    1                       2015  \n\n[189 rows x 112 columns]",
      "text/html": "<div>\n<style scoped>\n    .dataframe tbody tr th:only-of-type {\n        vertical-align: middle;\n    }\n\n    .dataframe tbody tr th {\n        vertical-align: top;\n    }\n\n    .dataframe thead th {\n        text-align: right;\n    }\n</style>\n<table border=\"1\" class=\"dataframe\">\n  <thead>\n    <tr style=\"text-align: right;\">\n      <th></th>\n      <th>Amount</th>\n      <th>Billing_Country___Canada</th>\n      <th>Billing_Country___Morocco</th>\n      <th>Billing_Country___SouthSPACEAfrica</th>\n      <th>Billing_Country___USA</th>\n      <th>Billing_Country___nan</th>\n      <th>Account_Owner___BruceSPACEKennedy</th>\n      <th>Account_Owner___CatherineSPACEBrown</th>\n      <th>Account_Owner___ChrisSPACERiley</th>\n      <th>Account_Owner___DennisSPACEHoward</th>\n      <th>...</th>\n      <th>Industry___Media</th>\n      <th>Industry___Retail</th>\n      <th>Industry___Technology</th>\n      <th>Industry___Telecommunications</th>\n      <th>Industry___Transportation</th>\n      <th>Industry___Utilities</th>\n      <th>Industry___nan</th>\n      <th>Closed</th>\n      <th>Won</th>\n      <th>Opportunity_Duration_Days</th>\n    </tr>\n  </thead>\n  <tbody>\n    <tr>\n      <th>0</th>\n      <td>-0.805116</td>\n      <td>0</td>\n      <td>0</td>\n      <td>0</td>\n      <td>1</td>\n      <td>0</td>\n      <td>0</td>\n      <td>0</td>\n      <td>0</td>\n      <td>0</td>\n      <td>...</td>\n      <td>0</td>\n      <td>0</td>\n      <td>0</td>\n      <td>0</td>\n      <td>0</td>\n      <td>0</td>\n      <td>0</td>\n      <td>1</td>\n      <td>1</td>\n      <td>1880</td>\n    </tr>\n    <tr>\n      <th>1</th>\n      <td>-0.311166</td>\n      <td>0</td>\n      <td>0</td>\n      <td>0</td>\n      <td>1</td>\n      <td>0</td>\n      <td>0</td>\n      <td>0</td>\n      <td>0</td>\n      <td>0</td>\n      <td>...</td>\n      <td>0</td>\n      <td>0</td>\n      <td>0</td>\n      <td>0</td>\n      <td>0</td>\n      <td>0</td>\n      <td>0</td>\n      <td>1</td>\n      <td>1</td>\n      <td>1978</td>\n    </tr>\n    <tr>\n      <th>2</th>\n      <td>-0.620518</td>\n      <td>1</td>\n      <td>0</td>\n      <td>0</td>\n      <td>0</td>\n      <td>0</td>\n      <td>0</td>\n      <td>0</td>\n      <td>0</td>\n      <td>0</td>\n      <td>...</td>\n      <td>0</td>\n      <td>0</td>\n      <td>0</td>\n      <td>0</td>\n      <td>0</td>\n      <td>0</td>\n      <td>0</td>\n      <td>1</td>\n      <td>1</td>\n      <td>2026</td>\n    </tr>\n    <tr>\n      <th>3</th>\n      <td>-0.608800</td>\n      <td>0</td>\n      <td>0</td>\n      <td>0</td>\n      <td>1</td>\n      <td>0</td>\n      <td>0</td>\n      <td>0</td>\n      <td>1</td>\n      <td>0</td>\n      <td>...</td>\n      <td>0</td>\n      <td>0</td>\n      <td>0</td>\n      <td>1</td>\n      <td>0</td>\n      <td>0</td>\n      <td>0</td>\n      <td>1</td>\n      <td>1</td>\n      <td>1904</td>\n    </tr>\n    <tr>\n      <th>4</th>\n      <td>-0.934749</td>\n      <td>0</td>\n      <td>0</td>\n      <td>0</td>\n      <td>1</td>\n      <td>0</td>\n      <td>0</td>\n      <td>0</td>\n      <td>0</td>\n      <td>0</td>\n      <td>...</td>\n      <td>0</td>\n      <td>0</td>\n      <td>0</td>\n      <td>0</td>\n      <td>0</td>\n      <td>0</td>\n      <td>0</td>\n      <td>0</td>\n      <td>0</td>\n      <td>2056</td>\n    </tr>\n    <tr>\n      <th>...</th>\n      <td>...</td>\n      <td>...</td>\n      <td>...</td>\n      <td>...</td>\n      <td>...</td>\n      <td>...</td>\n      <td>...</td>\n      <td>...</td>\n      <td>...</td>\n      <td>...</td>\n      <td>...</td>\n      <td>...</td>\n      <td>...</td>\n      <td>...</td>\n      <td>...</td>\n      <td>...</td>\n      <td>...</td>\n      <td>...</td>\n      <td>...</td>\n      <td>...</td>\n      <td>...</td>\n    </tr>\n    <tr>\n      <th>184</th>\n      <td>-0.874416</td>\n      <td>0</td>\n      <td>0</td>\n      <td>0</td>\n      <td>1</td>\n      <td>0</td>\n      <td>0</td>\n      <td>1</td>\n      <td>0</td>\n      <td>0</td>\n      <td>...</td>\n      <td>0</td>\n      <td>0</td>\n      <td>0</td>\n      <td>0</td>\n      <td>0</td>\n      <td>0</td>\n      <td>0</td>\n      <td>0</td>\n      <td>0</td>\n      <td>2040</td>\n    </tr>\n    <tr>\n      <th>185</th>\n      <td>-0.412580</td>\n      <td>1</td>\n      <td>0</td>\n      <td>0</td>\n      <td>0</td>\n      <td>0</td>\n      <td>0</td>\n      <td>0</td>\n      <td>0</td>\n      <td>1</td>\n      <td>...</td>\n      <td>0</td>\n      <td>0</td>\n      <td>0</td>\n      <td>0</td>\n      <td>0</td>\n      <td>0</td>\n      <td>0</td>\n      <td>0</td>\n      <td>0</td>\n      <td>1969</td>\n    </tr>\n    <tr>\n      <th>186</th>\n      <td>-0.848785</td>\n      <td>0</td>\n      <td>0</td>\n      <td>0</td>\n      <td>1</td>\n      <td>0</td>\n      <td>0</td>\n      <td>0</td>\n      <td>0</td>\n      <td>0</td>\n      <td>...</td>\n      <td>0</td>\n      <td>0</td>\n      <td>0</td>\n      <td>0</td>\n      <td>0</td>\n      <td>0</td>\n      <td>0</td>\n      <td>1</td>\n      <td>1</td>\n      <td>1879</td>\n    </tr>\n    <tr>\n      <th>187</th>\n      <td>-0.962945</td>\n      <td>0</td>\n      <td>0</td>\n      <td>0</td>\n      <td>1</td>\n      <td>0</td>\n      <td>0</td>\n      <td>0</td>\n      <td>0</td>\n      <td>0</td>\n      <td>...</td>\n      <td>0</td>\n      <td>0</td>\n      <td>1</td>\n      <td>0</td>\n      <td>0</td>\n      <td>0</td>\n      <td>0</td>\n      <td>1</td>\n      <td>1</td>\n      <td>1881</td>\n    </tr>\n    <tr>\n      <th>188</th>\n      <td>-0.975110</td>\n      <td>0</td>\n      <td>0</td>\n      <td>1</td>\n      <td>0</td>\n      <td>0</td>\n      <td>0</td>\n      <td>0</td>\n      <td>0</td>\n      <td>0</td>\n      <td>...</td>\n      <td>0</td>\n      <td>0</td>\n      <td>0</td>\n      <td>0</td>\n      <td>0</td>\n      <td>0</td>\n      <td>0</td>\n      <td>1</td>\n      <td>1</td>\n      <td>2015</td>\n    </tr>\n  </tbody>\n</table>\n<p>189 rows × 112 columns</p>\n</div>"
     },
     "execution_count": 27,
     "metadata": {},
     "output_type": "execute_result"
    }
   ],
   "source": [
    "train_df"
   ],
   "metadata": {
    "collapsed": false
   }
  },
  {
   "cell_type": "code",
   "execution_count": 43,
   "metadata": {
    "execution": {
     "iopub.execute_input": "2022-12-27T02:21:54.619704Z",
     "iopub.status.busy": "2022-12-27T02:21:54.619079Z",
     "iopub.status.idle": "2022-12-27T02:21:54.623534Z",
     "shell.execute_reply": "2022-12-27T02:21:54.622996Z"
    },
    "id": "t2sluJdCW7jN"
   },
   "outputs": [],
   "source": [
    "train_features = train_df.copy()\n",
    "test_features = test_df.copy()\n",
    "\n",
    "train_labels = train_features.pop(list(TARGET_COLUMN)[0])\n",
    "test_labels = test_features.pop(list(TARGET_COLUMN)[0])"
   ]
  },
  {
   "cell_type": "code",
   "execution_count": 69,
   "outputs": [],
   "source": [
    "def plot_loss(history):\n",
    "    plt.plot(history.history['loss'], label='loss')\n",
    "    plt.plot(history.history['val_loss'], label='val_loss')\n",
    "    plt.xlabel('Epoch')\n",
    "    plt.ylabel('Error')\n",
    "    plt.legend()\n",
    "    plt.grid(True)\n"
   ],
   "metadata": {
    "collapsed": false
   }
  },
  {
   "cell_type": "code",
   "execution_count": 94,
   "metadata": {
    "execution": {
     "iopub.execute_input": "2022-12-27T02:22:11.109282Z",
     "iopub.status.busy": "2022-12-27T02:22:11.108800Z",
     "iopub.status.idle": "2022-12-27T02:22:11.112981Z",
     "shell.execute_reply": "2022-12-27T02:22:11.112362Z"
    },
    "id": "c26juK7ZG8j-"
   },
   "outputs": [],
   "source": [
    "def build_and_compile_model():\n",
    "  model = keras.Sequential([\n",
    "      layers.Dense(64, activation='relu'),\n",
    "      layers.Dense(64, activation='relu'),\n",
    "      layers.Dense(1)\n",
    "  ])\n",
    "\n",
    "  model.compile(loss='mean_absolute_error',\n",
    "                optimizer=tf.keras.optimizers.Adam(0.001))\n",
    "  return model"
   ]
  },
  {
   "cell_type": "code",
   "execution_count": 103,
   "outputs": [],
   "source": [
    "dnn_model = build_and_compile_model()\n",
    "dnn_model.build(input_shape=train_features.shape)"
   ],
   "metadata": {
    "collapsed": false
   }
  },
  {
   "cell_type": "code",
   "execution_count": 104,
   "outputs": [
    {
     "name": "stdout",
     "output_type": "stream",
     "text": [
      "Model: \"sequential_19\"\n",
      "_________________________________________________________________\n",
      " Layer (type)                Output Shape              Param #   \n",
      "=================================================================\n",
      " dense_51 (Dense)            (189, 64)                 7168      \n",
      "                                                                 \n",
      " dense_52 (Dense)            (189, 64)                 4160      \n",
      "                                                                 \n",
      " dense_53 (Dense)            (189, 1)                  65        \n",
      "                                                                 \n",
      "=================================================================\n",
      "Total params: 11,393\n",
      "Trainable params: 11,393\n",
      "Non-trainable params: 0\n",
      "_________________________________________________________________\n"
     ]
    }
   ],
   "source": [
    "dnn_model.summary()"
   ],
   "metadata": {
    "collapsed": false
   }
  },
  {
   "cell_type": "code",
   "execution_count": 106,
   "outputs": [
    {
     "name": "stdout",
     "output_type": "stream",
     "text": [
      "CPU times: total: 812 ms\n",
      "Wall time: 3.41 s\n"
     ]
    }
   ],
   "source": [
    "%%time\n",
    "history = dnn_model.fit(\n",
    "    train_features,\n",
    "    train_labels,\n",
    "    validation_split=0.2,\n",
    "    verbose=0, epochs=100)"
   ],
   "metadata": {
    "collapsed": false
   }
  },
  {
   "cell_type": "code",
   "execution_count": 107,
   "outputs": [
    {
     "data": {
      "text/plain": "<Figure size 640x480 with 1 Axes>",
      "image/png": "[encoded data removed]"
     },
     "metadata": {},
     "output_type": "display_data"
    }
   ],
   "source": [
    "plot_loss(history)"
   ],
   "metadata": {
    "collapsed": false
   }
  },
  {
   "cell_type": "markdown",
   "source": [
    "Collect the results on the test set:"
   ],
   "metadata": {
    "collapsed": false
   }
  },
  {
   "cell_type": "code",
   "execution_count": 111,
   "outputs": [
    {
     "data": {
      "text/plain": "75.53707885742188"
     },
     "execution_count": 111,
     "metadata": {},
     "output_type": "execute_result"
    }
   ],
   "source": [
    "dnn_model.evaluate(test_features, test_labels, verbose=0)"
   ],
   "metadata": {
    "collapsed": false
   }
  },
  {
   "cell_type": "code",
   "execution_count": 116,
   "outputs": [],
   "source": [
    "import tfx_bsl\n",
    "from apache_beam.ml.inference.base import KeyedModelHandler\n",
    "from tfx_bsl.public.beam.run_inference import CreateModelHandler\n",
    "\n",
    "from tfx_bsl.public import tfxio\n",
    "from tfx_bsl.public.proto import model_spec_pb2"
   ],
   "metadata": {
    "collapsed": false
   }
  },
  {
   "cell_type": "code",
   "execution_count": null,
   "outputs": [],
   "source": [
    "@tf.function(input_signature=[tf.TensorSpec(shape=[None], dtype=tf.string , name='examples')])\n",
    "def serve_tf_examples_fn(serialized_tf_examples):\n",
    "    \"\"\"Returns the output to be used in the serving signature.\"\"\"\n",
    "    features = tf.io.parse_example(serialized_tf_examples, RAW_DATA_PREDICT_SPEC)\n",
    "    return model(features, training=False)\n",
    "\n",
    "signature = {'serving_default': serve_tf_examples_fn}\n"
   ],
   "metadata": {
    "collapsed": false
   }
  },
  {
   "cell_type": "code",
   "execution_count": 117,
   "outputs": [
    {
     "name": "stderr",
     "output_type": "stream",
     "text": [
      "WARNING:absl:Found untraced functions such as _update_step_xla while saving (showing 1 of 1). These functions will not be directly callable after loading.\n"
     ]
    },
    {
     "name": "stdout",
     "output_type": "stream",
     "text": [
      "INFO:tensorflow:Assets written to: pretrained/tf_regressor\\assets\n"
     ]
    },
    {
     "name": "stderr",
     "output_type": "stream",
     "text": [
      "INFO:tensorflow:Assets written to: pretrained/tf_regressor\\assets\n"
     ]
    }
   ],
   "source": [
    "dnn_model.save('pretrained/tf_regressor')"
   ],
   "metadata": {
    "collapsed": false
   }
  },
  {
   "cell_type": "code",
   "execution_count": 121,
   "outputs": [
    {
     "ename": "ValueError",
     "evalue": "Input dtype is expected to be 7, got 1",
     "output_type": "error",
     "traceback": [
      "\u001B[1;31m---------------------------------------------------------------------------\u001B[0m",
      "\u001B[1;31mValueError\u001B[0m                                Traceback (most recent call last)",
      "Cell \u001B[1;32mIn[121], line 3\u001B[0m\n\u001B[0;32m      1\u001B[0m saved_model_spec \u001B[38;5;241m=\u001B[39m model_spec_pb2\u001B[38;5;241m.\u001B[39mSavedModelSpec(model_path\u001B[38;5;241m=\u001B[39m\u001B[38;5;124m'\u001B[39m\u001B[38;5;124mpretrained/tf_regressor\u001B[39m\u001B[38;5;124m'\u001B[39m)\n\u001B[0;32m      2\u001B[0m inference_spec_type \u001B[38;5;241m=\u001B[39m model_spec_pb2\u001B[38;5;241m.\u001B[39mInferenceSpecType(saved_model_spec\u001B[38;5;241m=\u001B[39msaved_model_spec)\n\u001B[1;32m----> 3\u001B[0m model_handler \u001B[38;5;241m=\u001B[39m \u001B[43mCreateModelHandler\u001B[49m\u001B[43m(\u001B[49m\u001B[43minference_spec_type\u001B[49m\u001B[43m)\u001B[49m\n\u001B[0;32m      6\u001B[0m \u001B[38;5;28;01mwith\u001B[39;00m beam\u001B[38;5;241m.\u001B[39mPipeline() \u001B[38;5;28;01mas\u001B[39;00m p:\n\u001B[0;32m      7\u001B[0m     _ \u001B[38;5;241m=\u001B[39m (p \u001B[38;5;241m|\u001B[39m \u001B[38;5;124m\"\u001B[39m\u001B[38;5;124mRead CSV\u001B[39m\u001B[38;5;124m\"\u001B[39m \u001B[38;5;241m>>\u001B[39m beam\u001B[38;5;241m.\u001B[39mdataframe\u001B[38;5;241m.\u001B[39mio\u001B[38;5;241m.\u001B[39mread_csv(\u001B[38;5;124m\"\u001B[39m\u001B[38;5;124mtensorflow_output_test_final.csv\u001B[39m\u001B[38;5;124m\"\u001B[39m)\n\u001B[0;32m      8\u001B[0m          \u001B[38;5;241m|\u001B[39m \u001B[38;5;124m\"\u001B[39m\u001B[38;5;124mConvert to PColl\u001B[39m\u001B[38;5;124m\"\u001B[39m \u001B[38;5;241m>>\u001B[39m beam\u001B[38;5;241m.\u001B[39mdataframe\u001B[38;5;241m.\u001B[39mconvert\u001B[38;5;241m.\u001B[39mto_pcollection()\n\u001B[0;32m      9\u001B[0m          \u001B[38;5;241m|\u001B[39m tfx_bsl\u001B[38;5;241m.\u001B[39mpublic\u001B[38;5;241m.\u001B[39mbeam\u001B[38;5;241m.\u001B[39mRunInference(model_handler)\n\u001B[0;32m     10\u001B[0m          \u001B[38;5;66;03m# | beam.ParDo(FormatOutput())\u001B[39;00m\n\u001B[0;32m     11\u001B[0m          \u001B[38;5;241m|\u001B[39m beam\u001B[38;5;241m.\u001B[39mMap(\u001B[38;5;28mprint\u001B[39m)\n\u001B[0;32m     12\u001B[0m          )\n",
      "File \u001B[1;32m~\\Desktop\\Projects\\DnA_accelerators\\python-runinference\\venv\\lib\\site-packages\\tfx_bsl\\public\\beam\\run_inference.py:287\u001B[0m, in \u001B[0;36mCreateModelHandler\u001B[1;34m(inference_spec_type)\u001B[0m\n\u001B[0;32m    257\u001B[0m \u001B[38;5;28;01mdef\u001B[39;00m \u001B[38;5;21mCreateModelHandler\u001B[39m(\n\u001B[0;32m    258\u001B[0m     inference_spec_type: model_spec_pb2\u001B[38;5;241m.\u001B[39mInferenceSpecType) \u001B[38;5;241m-\u001B[39m\u001B[38;5;241m>\u001B[39m ModelHandler:\n\u001B[0;32m    259\u001B[0m \u001B[38;5;250m  \u001B[39m\u001B[38;5;124;03m\"\"\"Creates a Beam ModelHandler based on the inference spec type.\u001B[39;00m\n\u001B[0;32m    260\u001B[0m \n\u001B[0;32m    261\u001B[0m \u001B[38;5;124;03m  There are two model handlers:\u001B[39;00m\n\u001B[1;32m   (...)\u001B[0m\n\u001B[0;32m    285\u001B[0m \u001B[38;5;124;03m    A Beam RunInference ModelHandler for TensorFlow\u001B[39;00m\n\u001B[0;32m    286\u001B[0m \u001B[38;5;124;03m  \"\"\"\u001B[39;00m\n\u001B[1;32m--> 287\u001B[0m   \u001B[38;5;28;01mreturn\u001B[39;00m \u001B[43mrun_inference\u001B[49m\u001B[38;5;241;43m.\u001B[39;49m\u001B[43mcreate_model_handler\u001B[49m\u001B[43m(\u001B[49m\u001B[43minference_spec_type\u001B[49m\u001B[43m,\u001B[49m\u001B[43m \u001B[49m\u001B[38;5;28;43;01mNone\u001B[39;49;00m\u001B[43m,\u001B[49m\u001B[43m \u001B[49m\u001B[38;5;28;43;01mNone\u001B[39;49;00m\u001B[43m)\u001B[49m\n",
      "File \u001B[1;32m~\\Desktop\\Projects\\DnA_accelerators\\python-runinference\\venv\\lib\\site-packages\\tfx_bsl\\beam\\run_inference.py:125\u001B[0m, in \u001B[0;36mcreate_model_handler\u001B[1;34m(inference_spec_type, load_override_fn, options_project_id)\u001B[0m\n\u001B[0;32m    112\u001B[0m \u001B[38;5;250m\u001B[39m\u001B[38;5;124;03m\"\"\"Creates a ModelHandler based on the InferenceSpecType.\u001B[39;00m\n\u001B[0;32m    113\u001B[0m \n\u001B[0;32m    114\u001B[0m \u001B[38;5;124;03mArgs:\u001B[39;00m\n\u001B[1;32m   (...)\u001B[0m\n\u001B[0;32m    122\u001B[0m \u001B[38;5;124;03m  A ModelHandler appropriate for the inference_spec_type.\u001B[39;00m\n\u001B[0;32m    123\u001B[0m \u001B[38;5;124;03m\"\"\"\u001B[39;00m\n\u001B[0;32m    124\u001B[0m \u001B[38;5;28;01mif\u001B[39;00m _using_in_process_inference(inference_spec_type):\n\u001B[1;32m--> 125\u001B[0m   \u001B[38;5;28;01mreturn\u001B[39;00m \u001B[43m_get_saved_model_handler\u001B[49m\u001B[43m(\u001B[49m\u001B[43minference_spec_type\u001B[49m\u001B[43m,\u001B[49m\u001B[43m \u001B[49m\u001B[43mload_override_fn\u001B[49m\u001B[43m)\u001B[49m\n\u001B[0;32m    126\u001B[0m \u001B[38;5;28;01mreturn\u001B[39;00m _RemotePredictModelHandler(inference_spec_type, options_project_id)\n",
      "File \u001B[1;32m~\\Desktop\\Projects\\DnA_accelerators\\python-runinference\\venv\\lib\\site-packages\\tfx_bsl\\beam\\run_inference.py:243\u001B[0m, in \u001B[0;36m_get_saved_model_handler\u001B[1;34m(inference_spec_type, load_override_fn)\u001B[0m\n\u001B[0;32m    241\u001B[0m   \u001B[38;5;28;01mreturn\u001B[39;00m _MultiInferenceModelHandler(inference_spec_type, load_override_fn)\n\u001B[0;32m    242\u001B[0m \u001B[38;5;28;01melif\u001B[39;00m operation_type \u001B[38;5;241m==\u001B[39m _OperationType\u001B[38;5;241m.\u001B[39mPREDICTION:\n\u001B[1;32m--> 243\u001B[0m   \u001B[38;5;28;01mreturn\u001B[39;00m \u001B[43m_PredictModelHandler\u001B[49m\u001B[43m(\u001B[49m\u001B[43minference_spec_type\u001B[49m\u001B[43m,\u001B[49m\u001B[43m \u001B[49m\u001B[43mload_override_fn\u001B[49m\u001B[43m)\u001B[49m\n\u001B[0;32m    244\u001B[0m \u001B[38;5;28;01melse\u001B[39;00m:\n\u001B[0;32m    245\u001B[0m   \u001B[38;5;28;01mraise\u001B[39;00m \u001B[38;5;167;01mValueError\u001B[39;00m(\u001B[38;5;124m'\u001B[39m\u001B[38;5;124mUnsupported operation_type \u001B[39m\u001B[38;5;132;01m%s\u001B[39;00m\u001B[38;5;124m'\u001B[39m \u001B[38;5;241m%\u001B[39m operation_type)\n",
      "File \u001B[1;32m~\\Desktop\\Projects\\DnA_accelerators\\python-runinference\\venv\\lib\\site-packages\\tfx_bsl\\beam\\run_inference.py:586\u001B[0m, in \u001B[0;36m_BaseSavedModelHandler.__init__\u001B[1;34m(self, inference_spec_type, load_override_fn)\u001B[0m\n\u001B[0;32m    582\u001B[0m \u001B[38;5;28mself\u001B[39m\u001B[38;5;241m.\u001B[39m_tags \u001B[38;5;241m=\u001B[39m _get_tags(inference_spec_type)\n\u001B[0;32m    583\u001B[0m \u001B[38;5;28mself\u001B[39m\u001B[38;5;241m.\u001B[39m_signatures \u001B[38;5;241m=\u001B[39m _get_signatures(\n\u001B[0;32m    584\u001B[0m     inference_spec_type\u001B[38;5;241m.\u001B[39msaved_model_spec\u001B[38;5;241m.\u001B[39mmodel_path,\n\u001B[0;32m    585\u001B[0m     inference_spec_type\u001B[38;5;241m.\u001B[39msaved_model_spec\u001B[38;5;241m.\u001B[39msignature_name, \u001B[38;5;28mself\u001B[39m\u001B[38;5;241m.\u001B[39m_tags)\n\u001B[1;32m--> 586\u001B[0m \u001B[38;5;28mself\u001B[39m\u001B[38;5;241m.\u001B[39m_io_tensor_spec \u001B[38;5;241m=\u001B[39m \u001B[38;5;28;43mself\u001B[39;49m\u001B[38;5;241;43m.\u001B[39;49m\u001B[43m_make_io_tensor_spec\u001B[49m\u001B[43m(\u001B[49m\u001B[43m)\u001B[49m\n\u001B[0;32m    587\u001B[0m \u001B[38;5;28;01mif\u001B[39;00m \u001B[38;5;28mself\u001B[39m\u001B[38;5;241m.\u001B[39m_has_tpu_tag():\n\u001B[0;32m    588\u001B[0m   \u001B[38;5;66;03m# TODO(b/161563144): Support TPU inference.\u001B[39;00m\n\u001B[0;32m    589\u001B[0m   \u001B[38;5;28;01mraise\u001B[39;00m \u001B[38;5;167;01mNotImplementedError\u001B[39;00m(\u001B[38;5;124m'\u001B[39m\u001B[38;5;124mTPU inference is not supported yet.\u001B[39m\u001B[38;5;124m'\u001B[39m)\n",
      "File \u001B[1;32m~\\Desktop\\Projects\\DnA_accelerators\\python-runinference\\venv\\lib\\site-packages\\tfx_bsl\\beam\\run_inference.py:626\u001B[0m, in \u001B[0;36m_BaseSavedModelHandler._make_io_tensor_spec\u001B[1;34m(self)\u001B[0m\n\u001B[0;32m    623\u001B[0m     \u001B[38;5;28;01mraise\u001B[39;00m \u001B[38;5;167;01mValueError\u001B[39;00m(\u001B[38;5;124m'\u001B[39m\u001B[38;5;124mSignature should have 1 and only 1 inputs\u001B[39m\u001B[38;5;124m'\u001B[39m)\n\u001B[0;32m    624\u001B[0m   \u001B[38;5;28;01mif\u001B[39;00m (\u001B[38;5;28mlist\u001B[39m(signature\u001B[38;5;241m.\u001B[39msignature_def\u001B[38;5;241m.\u001B[39minputs\u001B[38;5;241m.\u001B[39mvalues())[\u001B[38;5;241m0\u001B[39m]\u001B[38;5;241m.\u001B[39mdtype \u001B[38;5;241m!=\u001B[39m\n\u001B[0;32m    625\u001B[0m       tf\u001B[38;5;241m.\u001B[39mstring\u001B[38;5;241m.\u001B[39mas_datatype_enum):\n\u001B[1;32m--> 626\u001B[0m     \u001B[38;5;28;01mraise\u001B[39;00m \u001B[38;5;167;01mValueError\u001B[39;00m(\n\u001B[0;32m    627\u001B[0m         \u001B[38;5;124m'\u001B[39m\u001B[38;5;124mInput dtype is expected to be \u001B[39m\u001B[38;5;132;01m%s\u001B[39;00m\u001B[38;5;124m, got \u001B[39m\u001B[38;5;132;01m%s\u001B[39;00m\u001B[38;5;124m'\u001B[39m \u001B[38;5;241m%\u001B[39m\n\u001B[0;32m    628\u001B[0m         (tf\u001B[38;5;241m.\u001B[39mstring\u001B[38;5;241m.\u001B[39mas_datatype_enum,\n\u001B[0;32m    629\u001B[0m          \u001B[38;5;28mlist\u001B[39m(signature\u001B[38;5;241m.\u001B[39msignature_def\u001B[38;5;241m.\u001B[39minputs\u001B[38;5;241m.\u001B[39mvalues())[\u001B[38;5;241m0\u001B[39m]\u001B[38;5;241m.\u001B[39mdtype))\n\u001B[0;32m    630\u001B[0m   io_tensor_specs\u001B[38;5;241m.\u001B[39mappend(_signature_pre_process(signature\u001B[38;5;241m.\u001B[39msignature_def))\n\u001B[0;32m    631\u001B[0m input_tensor_name \u001B[38;5;241m=\u001B[39m \u001B[38;5;124m'\u001B[39m\u001B[38;5;124m'\u001B[39m\n",
      "\u001B[1;31mValueError\u001B[0m: Input dtype is expected to be 7, got 1"
     ]
    }
   ],
   "source": [
    "saved_model_spec = model_spec_pb2.SavedModelSpec(model_path='pretrained/tf_regressor')\n",
    "inference_spec_type = model_spec_pb2.InferenceSpecType(saved_model_spec=saved_model_spec)\n",
    "model_handler = CreateModelHandler(inference_spec_type)\n",
    "\n",
    "\n",
    "with beam.Pipeline() as p:\n",
    "    _ = (p | \"Read CSV\" >> beam.dataframe.io.read_csv(\"tensorflow_output_test_final.csv\")\n",
    "         | \"Convert to PColl\" >> beam.dataframe.convert.to_pcollection()\n",
    "         | tfx_bsl.public.beam.RunInference(model_handler)\n",
    "         # | beam.ParDo(FormatOutput())\n",
    "         | beam.Map(print)\n",
    "         )\n"
   ],
   "metadata": {
    "collapsed": false
   }
  },
  {
   "cell_type": "code",
   "execution_count": null,
   "outputs": [],
   "source": [],
   "metadata": {
    "collapsed": false
   }
  }
 ],
 "metadata": {
  "colab": {
   "collapsed_sections": [],
   "name": "regression.ipynb",
   "toc_visible": true
  },
  "kernelspec": {
   "display_name": "Python 3",
   "name": "python3"
  },
  "language_info": {
   "codemirror_mode": {
    "name": "ipython",
    "version": 3
   },
   "file_extension": ".py",
   "mimetype": "text/x-python",
   "name": "python",
   "nbconvert_exporter": "python",
   "pygments_lexer": "ipython3",
   "version": "3.9.16"
  }
 },
 "nbformat": 4,
 "nbformat_minor": 0
}
