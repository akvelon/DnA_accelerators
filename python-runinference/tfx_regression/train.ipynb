{
 "cells": [
  {
   "cell_type": "code",
   "execution_count": 7,
   "outputs": [],
   "source": [
    " # Copyright 2023 Akvelon Inc.\n",
    " #\n",
    " # Licensed to the Apache Software Foundation (ASF) under one\n",
    " # or more contributor license agreements.  See the NOTICE file\n",
    " # distributed with this work for additional information\n",
    " # regarding copyright ownership.  The ASF licenses this file\n",
    " # to you under the Apache License, Version 2.0 (the\n",
    " # \"License\"); you may not use this file except in compliance\n",
    " # with the License.  You may obtain a copy of the License at\n",
    " #\n",
    " #     http://www.apache.org/licenses/LICENSE-2.0\n",
    " #\n",
    " # Unless required by applicable law or agreed to in writing, software\n",
    " # distributed under the License is distributed on an \"AS IS\" BASIS,\n",
    " # WITHOUT WARRANTIES OR CONDITIONS OF ANY KIND, either express or implied.\n",
    " # See the License for the specific language governing permissions and\n",
    " # limitations under the License."
   ],
   "metadata": {
    "collapsed": false
   }
  },
  {
   "cell_type": "code",
   "execution_count": null,
   "outputs": [],
   "source": [
    "import tensorflow as tf\n",
    "import apache_beam as beam\n",
    "import matplotlib.pyplot as plt\n",
    "import numpy as np\n",
    "import pandas as pd\n",
    "import datetime\n",
    "import category_encoders as ce\n",
    "\n",
    "from apache_beam import dataframe\n",
    "from apache_beam.ml.inference.base import RunInference\n",
    "from apache_beam.runners.interactive.interactive_runner import InteractiveRunner\n",
    "from tensorflow import keras\n",
    "from tensorflow.keras import layers\n",
    "\n",
    "import apache_beam.runners.interactive.interactive_beam as ib"
   ],
   "metadata": {
    "collapsed": false
   }
  },
  {
   "cell_type": "markdown",
   "source": [
    "Create a processor that will map the input features to examples from tf"
   ],
   "metadata": {
    "collapsed": false
   }
  },
  {
   "cell_type": "code",
   "execution_count": 5,
   "outputs": [],
   "source": [
    "class ExampleProcessor:\n",
    "    def create_example_with_label(self, feature: np.float32,\n",
    "                                  label: np.float32)-> tf.train.Example:\n",
    "        return tf.train.Example(\n",
    "            features=tf.train.Features(\n",
    "                feature={'x': self.create_feature(feature),\n",
    "                         'y' : self.create_y(label)\n",
    "                         }))\n",
    "\n",
    "    def create_example(self, feature: np.float32):\n",
    "        return tf.train.Example(\n",
    "            features=tf.train.Features(\n",
    "                feature={'x' : self.create_feature(feature)}\n",
    "                         # 'Id' : self.create_id(id)})\n",
    "            ))\n",
    "\n",
    "    def create_feature(self, element):\n",
    "        return tf.train.Feature(float_list=tf.train.FloatList(value=element))\n",
    "\n",
    "    def create_id(self, element):\n",
    "        return tf.train.Feature(bytes_list=tf.train.BytesList(value=[element]))\n",
    "\n",
    "    def create_y(self, element):\n",
    "        return tf.train.Feature(float_list=tf.train.FloatList(value=[element]))"
   ],
   "metadata": {
    "collapsed": false
   }
  },
  {
   "cell_type": "code",
   "execution_count": 9,
   "outputs": [],
   "source": [
    "hasher = ce.HashingEncoder(n_components=64, max_process=1, max_sample=1)\n",
    "\n",
    "def hash_encode(element, id='Id'):\n",
    "    result = [getattr(element, k) for k in set(element._fields) - {'CreatedDate', 'CloseDate', id}]\n",
    "    hashed_list = hasher.fit_transform(np.asarray([result]))\n",
    "    return hashed_list.to_numpy()\n",
    "    # return element.Id, hashed_list.to_numpy()\n",
    "\n",
    "def add_target_date_and_encode(element, id='Id'):\n",
    "    # Taking rstrip of trailing Z timezone\n",
    "    created_date = datetime.datetime.strptime(getattr(element, 'CreatedDate').rstrip('Z'), '%Y-%m-%dT%H:%M:%S.%f')\n",
    "    closed_date = datetime.datetime.strptime(getattr(element, 'CloseDate'), '%m/%d/%y')\n",
    "    hashed_list = hash_encode(element, id)\n",
    "    # _, hashed_list = hash_encode(element, id)\n",
    "    return (closed_date - created_date).days, hashed_list"
   ],
   "metadata": {
    "collapsed": false
   }
  },
  {
   "cell_type": "code",
   "execution_count": 10,
   "outputs": [],
   "source": [
    "train_tfrec = 'train_op.tfrecord'\n",
    "test_tfrec = 'test_op.tfrecord'"
   ],
   "metadata": {
    "collapsed": false
   }
  },
  {
   "cell_type": "markdown",
   "source": [
    "##### Train data preprocessing pipeline\n",
    "loads train/test data and preprocess it"
   ],
   "metadata": {
    "collapsed": false
   }
  },
  {
   "cell_type": "code",
   "execution_count": 11,
   "outputs": [],
   "source": [
    "def process_data():\n",
    "    dfs = []\n",
    "    for csv in ('../data/dtc_opportunity_train.csv', '../data/dtc_opportunity_test.csv'):\n",
    "        with beam.Pipeline(InteractiveRunner()) as p:\n",
    "            input_data = p | \"Read CSV\" >> beam.dataframe.io.read_csv(csv)\n",
    "            # For now dropping dates\n",
    "            input_data = input_data.drop(['Billing State/Province',\n",
    "                                          'Account Name',\n",
    "                                          'Product Name',\n",
    "                                          'Opportunity Name',\n",
    "                                          'Opportunity Owner',\n",
    "                                          'Account Owner'], axis=1)\n",
    "            input_data = input_data.drop('#', axis=1)\n",
    "            input_data = input_data.rename(columns={x: x.replace(' ', '') for x in input_data.columns})\n",
    "\n",
    "            input_data['Id'] = input_data.index\n",
    "            input_data = beam.dataframe.convert.to_pcollection(input_data)\n",
    "\n",
    "\n",
    "            ready_data = (\n",
    "                    input_data\n",
    "                    | beam.Map(lambda df: add_target_date_and_encode(df))\n",
    "            )\n",
    "            dfs.append(ib.collect(ready_data))\n",
    "\n",
    "    for i, dataframe in enumerate(dfs):\n",
    "        if i == 0:\n",
    "            name = 'train'\n",
    "        else:\n",
    "            name = 'test'\n",
    "        with tf.io.TFRecordWriter(f'{name}.tfrecord') as writer:\n",
    "            for label, feature in zip(dataframe[0], dataframe[1]):\n",
    "                example = ExampleProcessor().create_example_with_label(\n",
    "                    feature=feature[0], label=label)\n",
    "                writer.write(example.SerializeToString())\n",
    "    return dfs"
   ],
   "metadata": {
    "collapsed": false
   }
  },
  {
   "cell_type": "code",
   "execution_count": 12,
   "outputs": [
    {
     "data": {
      "application/javascript": "\n        if (typeof window.interactive_beam_jquery == 'undefined') {\n          var jqueryScript = document.createElement('script');\n          jqueryScript.src = 'https://code.jquery.com/jquery-3.4.1.slim.min.js';\n          jqueryScript.type = 'text/javascript';\n          jqueryScript.onload = function() {\n            var datatableScript = document.createElement('script');\n            datatableScript.src = 'https://cdn.datatables.net/1.10.20/js/jquery.dataTables.min.js';\n            datatableScript.type = 'text/javascript';\n            datatableScript.onload = function() {\n              window.interactive_beam_jquery = jQuery.noConflict(true);\n              window.interactive_beam_jquery(document).ready(function($){\n                \n              });\n            }\n            document.head.appendChild(datatableScript);\n          };\n          document.head.appendChild(jqueryScript);\n        } else {\n          window.interactive_beam_jquery(document).ready(function($){\n            \n          });\n        }"
     },
     "metadata": {},
     "output_type": "display_data"
    },
    {
     "data": {
      "text/plain": "<IPython.core.display.HTML object>",
      "text/html": "\n            <link rel=\"stylesheet\" href=\"https://stackpath.bootstrapcdn.com/bootstrap/4.4.1/css/bootstrap.min.css\" integrity=\"sha384-Vkoo8x4CGsO3+Hhxv8T/Q5PaXtkKtu6ug5TOeNV6gBiFeWPGFN9MuhOf23Q9Ifjh\" crossorigin=\"anonymous\">\n            <div id=\"progress_indicator_9faf31c3d587071d8ed68d1f5bcda22c\">\n              <div class=\"spinner-border text-info\" role=\"status\"></div>\n              <span class=\"text-info\">Processing... collect</span>\n            </div>\n            "
     },
     "metadata": {},
     "output_type": "display_data"
    },
    {
     "data": {
      "application/javascript": "\n        if (typeof window.interactive_beam_jquery == 'undefined') {\n          var jqueryScript = document.createElement('script');\n          jqueryScript.src = 'https://code.jquery.com/jquery-3.4.1.slim.min.js';\n          jqueryScript.type = 'text/javascript';\n          jqueryScript.onload = function() {\n            var datatableScript = document.createElement('script');\n            datatableScript.src = 'https://cdn.datatables.net/1.10.20/js/jquery.dataTables.min.js';\n            datatableScript.type = 'text/javascript';\n            datatableScript.onload = function() {\n              window.interactive_beam_jquery = jQuery.noConflict(true);\n              window.interactive_beam_jquery(document).ready(function($){\n                \n            $(\"#progress_indicator_9faf31c3d587071d8ed68d1f5bcda22c\").remove();\n              });\n            }\n            document.head.appendChild(datatableScript);\n          };\n          document.head.appendChild(jqueryScript);\n        } else {\n          window.interactive_beam_jquery(document).ready(function($){\n            \n            $(\"#progress_indicator_9faf31c3d587071d8ed68d1f5bcda22c\").remove();\n          });\n        }"
     },
     "metadata": {},
     "output_type": "display_data"
    },
    {
     "data": {
      "text/plain": "<IPython.core.display.HTML object>",
      "text/html": "\n            <link rel=\"stylesheet\" href=\"https://stackpath.bootstrapcdn.com/bootstrap/4.4.1/css/bootstrap.min.css\" integrity=\"sha384-Vkoo8x4CGsO3+Hhxv8T/Q5PaXtkKtu6ug5TOeNV6gBiFeWPGFN9MuhOf23Q9Ifjh\" crossorigin=\"anonymous\">\n            <div id=\"progress_indicator_d81fdaadecf8388a9cd7e6f4f4debc50\">\n              <div class=\"spinner-border text-info\" role=\"status\"></div>\n              <span class=\"text-info\">Processing... collect</span>\n            </div>\n            "
     },
     "metadata": {},
     "output_type": "display_data"
    },
    {
     "data": {
      "application/javascript": "\n        if (typeof window.interactive_beam_jquery == 'undefined') {\n          var jqueryScript = document.createElement('script');\n          jqueryScript.src = 'https://code.jquery.com/jquery-3.4.1.slim.min.js';\n          jqueryScript.type = 'text/javascript';\n          jqueryScript.onload = function() {\n            var datatableScript = document.createElement('script');\n            datatableScript.src = 'https://cdn.datatables.net/1.10.20/js/jquery.dataTables.min.js';\n            datatableScript.type = 'text/javascript';\n            datatableScript.onload = function() {\n              window.interactive_beam_jquery = jQuery.noConflict(true);\n              window.interactive_beam_jquery(document).ready(function($){\n                \n            $(\"#progress_indicator_d81fdaadecf8388a9cd7e6f4f4debc50\").remove();\n              });\n            }\n            document.head.appendChild(datatableScript);\n          };\n          document.head.appendChild(jqueryScript);\n        } else {\n          window.interactive_beam_jquery(document).ready(function($){\n            \n            $(\"#progress_indicator_d81fdaadecf8388a9cd7e6f4f4debc50\").remove();\n          });\n        }"
     },
     "metadata": {},
     "output_type": "display_data"
    }
   ],
   "source": [
    "aa = process_data()"
   ],
   "metadata": {
    "collapsed": false
   }
  },
  {
   "cell_type": "code",
   "execution_count": 13,
   "outputs": [],
   "source": [
    "def plot_loss(history):\n",
    "    plt.plot(history.history['loss'], label='loss')\n",
    "    plt.plot(history.history['val_loss'], label='val_loss')\n",
    "    plt.xlabel('Epoch')\n",
    "    plt.ylabel('Error')\n",
    "    plt.legend()\n",
    "    plt.grid(True)"
   ],
   "metadata": {
    "collapsed": false
   }
  },
  {
   "cell_type": "markdown",
   "source": [
    "##### Define keras model"
   ],
   "metadata": {
    "collapsed": false
   }
  },
  {
   "cell_type": "code",
   "execution_count": 14,
   "metadata": {
    "execution": {
     "iopub.execute_input": "2022-12-27T02:22:11.109282Z",
     "iopub.status.busy": "2022-12-27T02:22:11.108800Z",
     "iopub.status.idle": "2022-12-27T02:22:11.112981Z",
     "shell.execute_reply": "2022-12-27T02:22:11.112362Z"
    },
    "id": "c26juK7ZG8j-"
   },
   "outputs": [],
   "source": [
    "def build_and_compile_model(shape):\n",
    "  model = keras.Sequential([\n",
    "      layers.Input(shape=(shape,), name='x'),\n",
    "      layers.Dense(64, activation='relu'),\n",
    "      layers.Dense(64, activation='relu'),\n",
    "      layers.Dense(1)\n",
    "  ])\n",
    "\n",
    "  model.compile(loss='mean_absolute_error',\n",
    "                optimizer=tf.keras.optimizers.Adam(0.001))\n",
    "  return model"
   ]
  },
  {
   "cell_type": "markdown",
   "source": [
    "##### Features to tfrecord dataset of examples"
   ],
   "metadata": {
    "collapsed": false
   }
  },
  {
   "cell_type": "code",
   "execution_count": 15,
   "outputs": [
    {
     "name": "stdout",
     "output_type": "stream",
     "text": [
      "WARNING:tensorflow:From C:\\Users\\Marko\\Desktop\\Projects\\DnA_accelerators\\python-runinference\\venv\\lib\\site-packages\\tensorflow\\python\\autograph\\pyct\\static_analysis\\liveness.py:83: Analyzer.lamba_check (from tensorflow.python.autograph.pyct.static_analysis.liveness) is deprecated and will be removed after 2023-09-23.\n",
      "Instructions for updating:\n",
      "Lambda fuctions will be no more assumed to be used in the statement where they are used, or at least in the same block. https://github.com/tensorflow/tensorflow/issues/56089\n"
     ]
    },
    {
     "name": "stderr",
     "output_type": "stream",
     "text": [
      "WARNING:tensorflow:From C:\\Users\\Marko\\Desktop\\Projects\\DnA_accelerators\\python-runinference\\venv\\lib\\site-packages\\tensorflow\\python\\autograph\\pyct\\static_analysis\\liveness.py:83: Analyzer.lamba_check (from tensorflow.python.autograph.pyct.static_analysis.liveness) is deprecated and will be removed after 2023-09-23.\n",
      "Instructions for updating:\n",
      "Lambda fuctions will be no more assumed to be used in the statement where they are used, or at least in the same block. https://github.com/tensorflow/tensorflow/issues/56089\n"
     ]
    }
   ],
   "source": [
    "RAW_DATA_TRAIN_SPEC = {\n",
    "    'x': tf.io.FixedLenSequenceFeature([], tf.float32, allow_missing=True),\n",
    "    'y': tf.io.FixedLenSequenceFeature([], tf.float32, allow_missing=True)\n",
    "}\n",
    "\n",
    "train_dataset = tf.data.TFRecordDataset('train.tfrecord')\n",
    "train_dataset = train_dataset.map(lambda e : tf.io.parse_example(e, RAW_DATA_TRAIN_SPEC))\n",
    "train_dataset = train_dataset.map(lambda t : (t['x'], t['y']))\n",
    "train_dataset = train_dataset.batch(1)\n",
    "train_dataset = train_dataset.repeat()\n",
    "\n",
    "test_dataset = tf.data.TFRecordDataset('train.tfrecord')\n",
    "test_dataset = test_dataset.map(lambda e : tf.io.parse_example(e, RAW_DATA_TRAIN_SPEC))\n",
    "test_dataset = test_dataset.map(lambda t : (t['x'], t['y']))\n",
    "test_dataset = test_dataset.batch(1)\n",
    "\n",
    "\n",
    "dnn_model = build_and_compile_model(shape=64)\n",
    "dnn_model.build()"
   ],
   "metadata": {
    "collapsed": false
   }
  },
  {
   "cell_type": "code",
   "execution_count": 16,
   "outputs": [
    {
     "name": "stdout",
     "output_type": "stream",
     "text": [
      "Model: \"sequential\"\n",
      "_________________________________________________________________\n",
      " Layer (type)                Output Shape              Param #   \n",
      "=================================================================\n",
      " dense (Dense)               (None, 64)                4160      \n",
      "                                                                 \n",
      " dense_1 (Dense)             (None, 64)                4160      \n",
      "                                                                 \n",
      " dense_2 (Dense)             (None, 1)                 65        \n",
      "                                                                 \n",
      "=================================================================\n",
      "Total params: 8,385\n",
      "Trainable params: 8,385\n",
      "Non-trainable params: 0\n",
      "_________________________________________________________________\n"
     ]
    }
   ],
   "source": [
    "dnn_model.summary()"
   ],
   "metadata": {
    "collapsed": false
   }
  },
  {
   "cell_type": "markdown",
   "source": [
    "##### Fit the model\n",
    "Starts the training"
   ],
   "metadata": {
    "collapsed": false
   }
  },
  {
   "cell_type": "code",
   "execution_count": 17,
   "outputs": [],
   "source": [
    "history = dnn_model.fit(\n",
    "    train_dataset,\n",
    "    validation_data=test_dataset,\n",
    "    steps_per_epoch=8,\n",
    "    verbose=0, epochs=40)"
   ],
   "metadata": {
    "collapsed": false
   }
  },
  {
   "cell_type": "markdown",
   "source": [
    "##### Plot loss graph"
   ],
   "metadata": {
    "collapsed": false
   }
  },
  {
   "cell_type": "code",
   "execution_count": 18,
   "outputs": [
    {
     "data": {
      "text/plain": "<Figure size 640x480 with 1 Axes>",
      "image/png": "[encoded data removed]"
     },
     "metadata": {},
     "output_type": "display_data"
    }
   ],
   "source": [
    "plot_loss(history)"
   ],
   "metadata": {
    "collapsed": false
   }
  },
  {
   "cell_type": "markdown",
   "source": [
    "##### Save the trained model"
   ],
   "metadata": {
    "collapsed": false
   }
  },
  {
   "cell_type": "code",
   "execution_count": 20,
   "outputs": [],
   "source": [
    "from tfx_bsl.public.beam.run_inference import CreateModelHandler\n",
    "from tfx_bsl.public.proto import model_spec_pb2"
   ],
   "metadata": {
    "collapsed": false
   }
  },
  {
   "cell_type": "code",
   "execution_count": 21,
   "outputs": [],
   "source": [
    "RAW_DATA_PREDICT_SPEC = {\n",
    "    'x': tf.io.FixedLenSequenceFeature([], tf.float32, allow_missing=True),\n",
    "    # 'Id': tf.io.FixedLenFeature([], tf.string)\n",
    "}\n",
    "\n",
    "\n",
    "@tf.function(input_signature=[tf.TensorSpec(shape=[None], dtype=tf.string)])\n",
    "def serve_tf_examples_fn(data):\n",
    "    print(data.shape)\n",
    "    features = tf.io.parse_example(data, RAW_DATA_PREDICT_SPEC)\n",
    "    \"\"\"Returns the output to be used in the serving signature.\"\"\"\n",
    "    return dnn_model(features, training=False)\n",
    "    # return features['Id'], dnn_model(features['x'], training=False)\n",
    "\n",
    "signature = {'serving_default': serve_tf_examples_fn}"
   ],
   "metadata": {
    "collapsed": false
   }
  },
  {
   "cell_type": "code",
   "execution_count": 22,
   "outputs": [
    {
     "name": "stdout",
     "output_type": "stream",
     "text": [
      "(None,)\n"
     ]
    },
    {
     "name": "stderr",
     "output_type": "stream",
     "text": [
      "WARNING:absl:Found untraced functions such as _update_step_xla while saving (showing 1 of 1). These functions will not be directly callable after loading.\n"
     ]
    },
    {
     "name": "stdout",
     "output_type": "stream",
     "text": [
      "INFO:tensorflow:Assets written to: pretrained/tf_regressor\\assets\n"
     ]
    },
    {
     "name": "stderr",
     "output_type": "stream",
     "text": [
      "INFO:tensorflow:Assets written to: pretrained/tf_regressor\\assets\n"
     ]
    }
   ],
   "source": [
    "tf.keras.models.save_model(dnn_model, 'pretrained/tf_regressor', signatures=signature)"
   ],
   "metadata": {
    "collapsed": false
   }
  },
  {
   "cell_type": "markdown",
   "source": [
    "##### Output format function"
   ],
   "metadata": {
    "collapsed": false
   }
  },
  {
   "cell_type": "code",
   "execution_count": 25,
   "outputs": [],
   "source": [
    "class FormatOutput(beam.DoFn):\n",
    "    def process(self, element):\n",
    "        predict_log = element.predict_log\n",
    "        input_value = tf.train.Example.FromString(predict_log.request.inputs['data'].string_val[0])\n",
    "        input_float_value = input_value.features.feature['x'].float_list\n",
    "        output_value = predict_log.response.outputs\n",
    "        output_float_value = output_value['output_0'].float_val[0]\n",
    "        yield f\"example is {str(input_float_value)} prediction is {str(output_float_value)}\""
   ],
   "metadata": {
    "collapsed": false
   }
  },
  {
   "cell_type": "markdown",
   "source": [
    "### Inference pipeline"
   ],
   "metadata": {
    "collapsed": false
   }
  },
  {
   "cell_type": "code",
   "execution_count": 26,
   "outputs": [
    {
     "name": "stderr",
     "output_type": "stream",
     "text": [
      "WARNING:root:Resource module is not available for current platform, memory usage cannot be fetched.\n"
     ]
    },
    {
     "name": "stdout",
     "output_type": "stream",
     "text": [
      "INFO:tensorflow:Restoring parameters from pretrained/tf_regressor\\variables\\variables\n"
     ]
    },
    {
     "name": "stderr",
     "output_type": "stream",
     "text": [
      "INFO:tensorflow:Restoring parameters from pretrained/tf_regressor\\variables\\variables\n",
      "WARNING:root:Resource module is not available for current platform, memory usage cannot be fetched.\n"
     ]
    }
   ],
   "source": [
    "saved_model_spec = model_spec_pb2.SavedModelSpec(model_path='pretrained/tf_regressor')\n",
    "inference_spec_type = model_spec_pb2.InferenceSpecType(saved_model_spec=saved_model_spec)\n",
    "model_handler = CreateModelHandler(inference_spec_type)\n",
    "\n",
    "\n",
    "with beam.Pipeline(InteractiveRunner()) as p:\n",
    "    data = (p | \"Read CSV\" >> beam.dataframe.io.read_csv('../anomaly_detection/dtc_opportunity_test.csv'))\n",
    "    data = data.drop(['Billing State/Province',\n",
    "                                  'Account Name',\n",
    "                                  'Product Name',\n",
    "                                  'Opportunity Name',\n",
    "                                  'Opportunity Owner',\n",
    "                                  'Account Owner'], axis=1)\n",
    "    data = data.drop('#', axis=1)\n",
    "    data = data.rename(columns={x: x.replace(' ', '') for x in data.columns})\n",
    "    data['Id'] = data.index\n",
    "\n",
    "    data = beam.dataframe.convert.to_pcollection(data)\n",
    "\n",
    "    result = (\n",
    "         data\n",
    "         | beam.Map(lambda df: hash_encode(df))\n",
    "         | \"Convert to tf.Examples\" >> beam.Map(lambda x: ExampleProcessor().create_example(feature=x[0]).SerializeToString())\n",
    "         | RunInference(model_handler)\n",
    "         | beam.ParDo(FormatOutput())\n",
    "         | beam.Map(print)\n",
    "         )"
   ],
   "metadata": {
    "collapsed": false
   }
  },
  {
   "cell_type": "code",
   "execution_count": 26,
   "outputs": [],
   "source": [],
   "metadata": {
    "collapsed": false
   }
  },
  {
   "cell_type": "code",
   "execution_count": null,
   "outputs": [],
   "source": [],
   "metadata": {
    "collapsed": false
   }
  }
 ],
 "metadata": {
  "colab": {
   "collapsed_sections": [],
   "name": "regression.ipynb",
   "toc_visible": true
  },
  "kernelspec": {
   "display_name": "Python 3",
   "name": "python3"
  },
  "language_info": {
   "codemirror_mode": {
    "name": "ipython",
    "version": 3
   },
   "file_extension": ".py",
   "mimetype": "text/x-python",
   "name": "python",
   "nbconvert_exporter": "python",
   "pygments_lexer": "ipython3",
   "version": "3.9.16"
  }
 },
 "nbformat": 4,
 "nbformat_minor": 0
}
